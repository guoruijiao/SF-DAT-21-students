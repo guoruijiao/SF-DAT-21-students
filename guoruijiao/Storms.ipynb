{
 "cells": [
  {
   "cell_type": "markdown",
   "metadata": {},
   "source": [
    "# SF-DAT-21 | Lab 05: Storms, `pandas`, and GitHub"
   ]
  },
  {
   "cell_type": "markdown",
   "metadata": {},
   "source": [
    "## OJECTIVES"
   ]
  },
  {
   "cell_type": "markdown",
   "metadata": {},
   "source": [
    "This session closes the course's first unit: \"Research Design and Data Analysis\" in which we covered important building blocks for performing data science work:\n",
    "- Research Design\n",
    "- Data Manipulation, dataset tidying and Exploratory Data Analysis with `pandas`\n",
    "- Statistics and Visualization with `pandas`\n",
    "\n",
    "Starting with the next session, we will shift our attention to building predictive models.  However, the skills you've learned so far will prove to be very fruitful as a data scientist (e.g., mastering tidying data will save you hours of time and make your data much easier to work on).  This lab gives you an opportunity to put into practice all these concepts."
   ]
  },
  {
   "cell_type": "markdown",
   "metadata": {},
   "source": [
    "## BACKGROUND"
   ]
  },
  {
   "cell_type": "markdown",
   "metadata": {},
   "source": [
    "Severe weather events cause public health and economic problems, many resulting in fatalities, injuries, and property/crop damage.  Preventing such outcomes to the extent possible is a key concern.\n",
    "\n",
    "Using the U.S. National Oceanic and Atmospheric Administration's (NOAA) storm database (in the `datasets` folder alongside some documentation), which tracked characteristics of major weather events in the United States from 1950 to 2011, you will study and report what types of events cause most of the fatalities, injuries, and economic damages."
   ]
  },
  {
   "cell_type": "markdown",
   "metadata": {},
   "source": [
    "## PROMPT"
   ]
  },
  {
   "cell_type": "markdown",
   "metadata": {},
   "source": [
    "You'll work in group of 4 (no less) to 5 (no more), collaborate using git, GitHub, and the SF-DAT-21-students remote repository here: https://github.com/paspeur/SF-DAT-21-students\n",
    "\n",
    "Specifically:\n",
    "- Do individual work inside the directory named after your GitHub username.  This means copying this iPython Notebook (just this notebook `Storm.ipnb`) in your directory.  Commit and push your changes regularly.  (We'll go over it in class)\n",
    "- Name your team and have one person in your team to create a new directory at the root of the repository in the form `class-05-XXX`.  Copy over there this notebook.\n",
    "- How exactly you collaborate among yourself (as long as it works) is left for you to decide.  We are there to help you."
   ]
  },
  {
   "cell_type": "markdown",
   "metadata": {},
   "source": [
    "## DELIVERABLES"
   ]
  },
  {
   "cell_type": "markdown",
   "metadata": {},
   "source": [
    "- Your team deliverable (more below) will be the notebook in your team directory; your individual deliverable will be the notebook in your personal directory (it can be the final team notebook but I'm mostly interested in seeing you building proficiency with git/GitHub and this is one way to demonstrate)\n",
    "- Your notebook should not just be code, not text either.  I'm looking for both text and code, one supporting the other in a logical manner.\n",
    "- More specifically, I want you to approach your work following the data science workflow."
   ]
  },
  {
   "cell_type": "markdown",
   "metadata": {},
   "source": [
    "## DATA SCIENCE WORKFLOW"
   ]
  },
  {
   "cell_type": "markdown",
   "metadata": {},
   "source": [
    "[Don't read into each question too literally.  The lab is relatively open-ended; the goal is to improve the mastery of your new skills and have fun doing it.]\n",
    "\n",
    "- **1. IDENTIFY the Problem**\n",
    "  - Write a SMART research question around the vaguely following objective: \"What types of events result in most fatalities, injuries, and economic damages?\"\n",
    "\n",
    "\n",
    "- **2. ACQUIRE the Data**\n",
    "  - The raw dataset you'll work with is in the `datasets` folder (at the root of the repository) alongside some documentation\n",
    "  - Questions you might ask yourself:\n",
    "    - _What type of data is it?  (e.g., cross-sectional or longitudinal)_\n",
    "    - _How well was the data collected?_\n",
    "    - _Is there much missing data?_\n",
    "    - _Was the data collection instrument calibrated?_\n",
    "    - _Is the dataset aggregated?_\n",
    "    - _Do we need pre-aggregated data?_\n",
    "\n",
    "\n",
    "- **3. PARSE the Data**\n",
    "  - [Again, the documentation is in the `datasets` folder]\n",
    "  - You need to understand what you're working with\n",
    "  - To better understand your data\n",
    "    - _Create or review the data dictionary_\n",
    "    - _Perform exploratory surface analysis_\n",
    "    - _Describe data structure and information being collected_\n",
    "    - _Explore variables and data types_\n",
    "\n",
    "\n",
    "- **4. Mine the Data**\n",
    "  - Mine the Data\n",
    "  - Determine sampling methodology and sample data\n",
    "  - Format, clean, slice, and combine data in Python\n",
    "  - Create necessary derived columns from the data (new data)\n",
    "\n",
    "\n",
    "- **7. Present the Results**\n",
    "  - Present the Results\n",
    "  - Summarize findings with narrative, storytelling techniques\n",
    "  - Present limitations and assumptions of your analysis\n",
    "  - Identify follow up problems and questions for future analysis"
   ]
  },
  {
   "cell_type": "markdown",
   "metadata": {},
   "source": [
    "## DOCUMENTATION"
   ]
  },
  {
   "cell_type": "markdown",
   "metadata": {},
   "source": [
    "- Some documentation for the dataset is in the `datasets` folder at the root of the repository\n",
    "- `pandas` documentation: http://pandas.pydata.org/pandas-docs/stable/\n",
    "- Slides from the previous sessions..."
   ]
  },
  {
   "cell_type": "markdown",
   "metadata": {},
   "source": [
    "## IDEAS TO KEEP IN MIND"
   ]
  },
  {
   "cell_type": "markdown",
   "metadata": {},
   "source": [
    "1. The datset is big.  You might want to use a small subset to get things working before moving on to the entire dataset.\n",
    "2. Generate both tables and histograms to answer your questions.  That'll make it into a better presentation to your classmates.\n",
    "3. At some point in time, you may want to split tidying up the dataset and the exploratory data analysis into different notebooks (multiple well defined notebooks make it easier to collaborate).  You could save your cleaned up dataset into disk (it should be small at this point) and load it from the other notebook.\n",
    "4. If time allows, create a new tidy dataset reporting fatalities, injuries, and property/crop damage (min, max, median, Q1, Q3, mean, and variance) per calendar year and per state and save it as a CSV file."
   ]
  },
  {
   "cell_type": "markdown",
   "metadata": {},
   "source": [
    "## CODE TO GET YOU STARTED"
   ]
  },
  {
   "cell_type": "code",
   "execution_count": 1,
   "metadata": {
    "collapsed": true
   },
   "outputs": [],
   "source": [
    "import os\n",
    "import numpy as np\n",
    "import pandas as pd\n",
    "import matplotlib.pyplot as plt\n",
    "import csv\n",
    "\n",
    "pd.set_option('display.max_rows', 10)\n",
    "pd.set_option('display.notebook_repr_html', True)\n",
    "pd.set_option('display.max_columns', 10)\n",
    "\n",
    "%matplotlib inline\n",
    "plt.style.use('ggplot')"
   ]
  },
  {
   "cell_type": "code",
   "execution_count": 2,
   "metadata": {
    "collapsed": false,
    "scrolled": true
   },
   "outputs": [
    {
     "name": "stderr",
     "output_type": "stream",
     "text": [
      "/Users/ruijiao.guo/anaconda/envs/py27/lib/python2.7/site-packages/IPython/core/interactiveshell.py:2723: DtypeWarning: Columns (2,9,10,11,12,16,17,27,28,29,30,35) have mixed types. Specify dtype option on import or set low_memory=False.\n",
      "  interactivity=interactivity, compiler=compiler, result=result)\n"
     ]
    }
   ],
   "source": [
    "df = pd.read_csv(os.path.join('..', 'datasets', 'Storms.csv.bz2'))"
   ]
  },
  {
   "cell_type": "code",
   "execution_count": 3,
   "metadata": {
    "collapsed": false
   },
   "outputs": [
    {
     "data": {
      "text/html": [
       "<div>\n",
       "<table border=\"1\" class=\"dataframe\">\n",
       "  <thead>\n",
       "    <tr style=\"text-align: right;\">\n",
       "      <th></th>\n",
       "      <th>STATE__</th>\n",
       "      <th>BGN_DATE</th>\n",
       "      <th>BGN_TIME</th>\n",
       "      <th>TIME_ZONE</th>\n",
       "      <th>COUNTY</th>\n",
       "      <th>...</th>\n",
       "      <th>LONGITUDE</th>\n",
       "      <th>LATITUDE_E</th>\n",
       "      <th>LONGITUDE_</th>\n",
       "      <th>REMARKS</th>\n",
       "      <th>REFNUM</th>\n",
       "    </tr>\n",
       "  </thead>\n",
       "  <tbody>\n",
       "    <tr>\n",
       "      <th>0</th>\n",
       "      <td>1</td>\n",
       "      <td>4/18/1950 0:00:00</td>\n",
       "      <td>130</td>\n",
       "      <td>CST</td>\n",
       "      <td>97</td>\n",
       "      <td>...</td>\n",
       "      <td>8812</td>\n",
       "      <td>3051</td>\n",
       "      <td>8806</td>\n",
       "      <td>NaN</td>\n",
       "      <td>1</td>\n",
       "    </tr>\n",
       "    <tr>\n",
       "      <th>1</th>\n",
       "      <td>1</td>\n",
       "      <td>4/18/1950 0:00:00</td>\n",
       "      <td>145</td>\n",
       "      <td>CST</td>\n",
       "      <td>3</td>\n",
       "      <td>...</td>\n",
       "      <td>8755</td>\n",
       "      <td>0</td>\n",
       "      <td>0</td>\n",
       "      <td>NaN</td>\n",
       "      <td>2</td>\n",
       "    </tr>\n",
       "  </tbody>\n",
       "</table>\n",
       "<p>2 rows × 37 columns</p>\n",
       "</div>"
      ],
      "text/plain": [
       "   STATE__           BGN_DATE BGN_TIME TIME_ZONE  COUNTY  ...   LONGITUDE  \\\n",
       "0        1  4/18/1950 0:00:00      130       CST      97  ...        8812   \n",
       "1        1  4/18/1950 0:00:00      145       CST       3  ...        8755   \n",
       "\n",
       "  LATITUDE_E LONGITUDE_  REMARKS REFNUM  \n",
       "0       3051       8806      NaN      1  \n",
       "1          0          0      NaN      2  \n",
       "\n",
       "[2 rows x 37 columns]"
      ]
     },
     "execution_count": 3,
     "metadata": {},
     "output_type": "execute_result"
    }
   ],
   "source": [
    "df.head(2)"
   ]
  },
  {
   "cell_type": "code",
   "execution_count": 4,
   "metadata": {
    "collapsed": false
   },
   "outputs": [
    {
     "data": {
      "text/plain": [
       "(902297, 37)"
      ]
     },
     "execution_count": 4,
     "metadata": {},
     "output_type": "execute_result"
    }
   ],
   "source": [
    "df.shape"
   ]
  },
  {
   "cell_type": "code",
   "execution_count": 5,
   "metadata": {
    "collapsed": false
   },
   "outputs": [
    {
     "data": {
      "text/plain": [
       "Index([u'STATE__', u'BGN_DATE', u'BGN_TIME', u'TIME_ZONE', u'COUNTY',\n",
       "       u'COUNTYNAME', u'STATE', u'EVTYPE', u'BGN_RANGE', u'BGN_AZI',\n",
       "       u'BGN_LOCATI', u'END_DATE', u'END_TIME', u'COUNTY_END', u'COUNTYENDN',\n",
       "       u'END_RANGE', u'END_AZI', u'END_LOCATI', u'LENGTH', u'WIDTH', u'F',\n",
       "       u'MAG', u'FATALITIES', u'INJURIES', u'PROPDMG', u'PROPDMGEXP',\n",
       "       u'CROPDMG', u'CROPDMGEXP', u'WFO', u'STATEOFFIC', u'ZONENAMES',\n",
       "       u'LATITUDE', u'LONGITUDE', u'LATITUDE_E', u'LONGITUDE_', u'REMARKS',\n",
       "       u'REFNUM'],\n",
       "      dtype='object')"
      ]
     },
     "execution_count": 5,
     "metadata": {},
     "output_type": "execute_result"
    }
   ],
   "source": [
    "df.columns"
   ]
  },
  {
   "cell_type": "markdown",
   "metadata": {},
   "source": [
    "### Set REFNUM as index, so now the we have 37 - 1 = 36 columns left"
   ]
  },
  {
   "cell_type": "code",
   "execution_count": 6,
   "metadata": {
    "collapsed": false
   },
   "outputs": [
    {
     "data": {
      "text/plain": [
       "0    1\n",
       "1    2\n",
       "2    3\n",
       "3    4\n",
       "4    5\n",
       "Name: REFNUM, dtype: float64"
      ]
     },
     "execution_count": 6,
     "metadata": {},
     "output_type": "execute_result"
    }
   ],
   "source": [
    "df.REFNUM[0:5]"
   ]
  },
  {
   "cell_type": "code",
   "execution_count": 7,
   "metadata": {
    "collapsed": false
   },
   "outputs": [],
   "source": [
    "df = df.set_index('REFNUM')"
   ]
  },
  {
   "cell_type": "code",
   "execution_count": 8,
   "metadata": {
    "collapsed": false
   },
   "outputs": [
    {
     "data": {
      "text/html": [
       "<div>\n",
       "<table border=\"1\" class=\"dataframe\">\n",
       "  <thead>\n",
       "    <tr style=\"text-align: right;\">\n",
       "      <th></th>\n",
       "      <th>STATE__</th>\n",
       "      <th>BGN_DATE</th>\n",
       "      <th>BGN_TIME</th>\n",
       "      <th>TIME_ZONE</th>\n",
       "      <th>COUNTY</th>\n",
       "      <th>...</th>\n",
       "      <th>LATITUDE</th>\n",
       "      <th>LONGITUDE</th>\n",
       "      <th>LATITUDE_E</th>\n",
       "      <th>LONGITUDE_</th>\n",
       "      <th>REMARKS</th>\n",
       "    </tr>\n",
       "    <tr>\n",
       "      <th>REFNUM</th>\n",
       "      <th></th>\n",
       "      <th></th>\n",
       "      <th></th>\n",
       "      <th></th>\n",
       "      <th></th>\n",
       "      <th></th>\n",
       "      <th></th>\n",
       "      <th></th>\n",
       "      <th></th>\n",
       "      <th></th>\n",
       "      <th></th>\n",
       "    </tr>\n",
       "  </thead>\n",
       "  <tbody>\n",
       "    <tr>\n",
       "      <th>1</th>\n",
       "      <td>1</td>\n",
       "      <td>4/18/1950 0:00:00</td>\n",
       "      <td>130</td>\n",
       "      <td>CST</td>\n",
       "      <td>97</td>\n",
       "      <td>...</td>\n",
       "      <td>3040</td>\n",
       "      <td>8812</td>\n",
       "      <td>3051</td>\n",
       "      <td>8806</td>\n",
       "      <td>NaN</td>\n",
       "    </tr>\n",
       "  </tbody>\n",
       "</table>\n",
       "<p>1 rows × 36 columns</p>\n",
       "</div>"
      ],
      "text/plain": [
       "        STATE__           BGN_DATE BGN_TIME TIME_ZONE  COUNTY   ...    \\\n",
       "REFNUM                                                          ...     \n",
       "1             1  4/18/1950 0:00:00      130       CST      97   ...     \n",
       "\n",
       "       LATITUDE LONGITUDE LATITUDE_E  LONGITUDE_ REMARKS  \n",
       "REFNUM                                                    \n",
       "1          3040      8812       3051        8806     NaN  \n",
       "\n",
       "[1 rows x 36 columns]"
      ]
     },
     "execution_count": 8,
     "metadata": {},
     "output_type": "execute_result"
    }
   ],
   "source": [
    "df.head(1)"
   ]
  },
  {
   "cell_type": "markdown",
   "metadata": {},
   "source": [
    "### Missing values"
   ]
  },
  {
   "cell_type": "code",
   "execution_count": 9,
   "metadata": {
    "collapsed": false
   },
   "outputs": [
    {
     "data": {
      "text/plain": [
       "[0,\n",
       " 0,\n",
       " 0,\n",
       " 0,\n",
       " 0,\n",
       " 1589,\n",
       " 0,\n",
       " 0,\n",
       " 0,\n",
       " 547332,\n",
       " 287743,\n",
       " 243411,\n",
       " 238978,\n",
       " 0,\n",
       " 902297,\n",
       " 0,\n",
       " 724837,\n",
       " 499225,\n",
       " 0,\n",
       " 0,\n",
       " 843563,\n",
       " 0,\n",
       " 0,\n",
       " 0,\n",
       " 0,\n",
       " 465934,\n",
       " 0,\n",
       " 618413,\n",
       " 142069,\n",
       " 248769,\n",
       " 594029,\n",
       " 47,\n",
       " 0,\n",
       " 40,\n",
       " 0,\n",
       " 287433]"
      ]
     },
     "execution_count": 9,
     "metadata": {},
     "output_type": "execute_result"
    }
   ],
   "source": [
    "df.isnull().sum().tolist()"
   ]
  },
  {
   "cell_type": "code",
   "execution_count": 10,
   "metadata": {
    "collapsed": false
   },
   "outputs": [
    {
     "data": {
      "text/plain": [
       "0"
      ]
     },
     "execution_count": 10,
     "metadata": {},
     "output_type": "execute_result"
    }
   ],
   "source": [
    "df.FATALITIES.isnull().sum()"
   ]
  },
  {
   "cell_type": "markdown",
   "metadata": {},
   "source": [
    "### Get column names with missing values"
   ]
  },
  {
   "cell_type": "code",
   "execution_count": 11,
   "metadata": {
    "collapsed": false
   },
   "outputs": [
    {
     "data": {
      "text/plain": [
       "STATE__       False\n",
       "BGN_DATE      False\n",
       "BGN_TIME      False\n",
       "TIME_ZONE     False\n",
       "COUNTY        False\n",
       "              ...  \n",
       "LATITUDE       True\n",
       "LONGITUDE     False\n",
       "LATITUDE_E     True\n",
       "LONGITUDE_    False\n",
       "REMARKS        True\n",
       "dtype: bool"
      ]
     },
     "execution_count": 11,
     "metadata": {},
     "output_type": "execute_result"
    }
   ],
   "source": [
    "df.isnull().sum() > 0 "
   ]
  },
  {
   "cell_type": "code",
   "execution_count": 12,
   "metadata": {
    "collapsed": false
   },
   "outputs": [
    {
     "data": {
      "text/plain": [
       "Index([u'COUNTYNAME', u'BGN_AZI', u'BGN_LOCATI', u'END_DATE', u'END_TIME',\n",
       "       u'COUNTYENDN', u'END_AZI', u'END_LOCATI', u'F', u'PROPDMGEXP',\n",
       "       u'CROPDMGEXP', u'WFO', u'STATEOFFIC', u'ZONENAMES', u'LATITUDE',\n",
       "       u'LATITUDE_E', u'REMARKS'],\n",
       "      dtype='object')"
      ]
     },
     "execution_count": 12,
     "metadata": {},
     "output_type": "execute_result"
    }
   ],
   "source": [
    "df.columns[df.isnull().sum() > 0]"
   ]
  },
  {
   "cell_type": "code",
   "execution_count": 13,
   "metadata": {
    "collapsed": false
   },
   "outputs": [
    {
     "name": "stdout",
     "output_type": "stream",
     "text": [
      "COUNTYNAME    1589   0%\n",
      "BGN_AZI     547332  61%\n",
      "BGN_LOCATI  287743  32%\n",
      "END_DATE    243411  27%\n",
      "END_TIME    238978  26%\n",
      "COUNTYENDN  902297 100%\n",
      "END_AZI     724837  80%\n",
      "END_LOCATI  499225  55%\n",
      "F           843563  93%\n",
      "PROPDMGEXP  465934  52%\n",
      "CROPDMGEXP  618413  69%\n",
      "WFO         142069  16%\n",
      "STATEOFFIC  248769  28%\n",
      "ZONENAMES   594029  66%\n",
      "LATITUDE        47   0%\n",
      "LATITUDE_E      40   0%\n",
      "REMARKS     287433  32%\n"
     ]
    }
   ],
   "source": [
    "## calculate the percentage of missing values of each columns\n",
    "total = df.shape[0]\n",
    "\n",
    "for column in df.columns:\n",
    "    count = df[column].isnull().sum() ## total number of missing values\n",
    "    # count = total - df[column].count() ## count() will return total number of non-missing values. \n",
    "    # count = total - df[column].notnull().sum()\n",
    "    if count > 0:\n",
    "        print '{:11s} {:6d} {:3.0f}%'.format(column, count, 100.*(count)/total)\n",
    "\n",
    "    "
   ]
  },
  {
   "cell_type": "markdown",
   "metadata": {},
   "source": [
    "### Drop missing values"
   ]
  },
  {
   "cell_type": "code",
   "execution_count": 14,
   "metadata": {
    "collapsed": false
   },
   "outputs": [
    {
     "data": {
      "text/html": [
       "<div>\n",
       "<table border=\"1\" class=\"dataframe\">\n",
       "  <thead>\n",
       "    <tr style=\"text-align: right;\">\n",
       "      <th></th>\n",
       "      <th>STATE__</th>\n",
       "      <th>BGN_DATE</th>\n",
       "      <th>BGN_TIME</th>\n",
       "      <th>TIME_ZONE</th>\n",
       "      <th>COUNTY</th>\n",
       "      <th>...</th>\n",
       "      <th>LATITUDE</th>\n",
       "      <th>LONGITUDE</th>\n",
       "      <th>LATITUDE_E</th>\n",
       "      <th>LONGITUDE_</th>\n",
       "      <th>REMARKS</th>\n",
       "    </tr>\n",
       "    <tr>\n",
       "      <th>REFNUM</th>\n",
       "      <th></th>\n",
       "      <th></th>\n",
       "      <th></th>\n",
       "      <th></th>\n",
       "      <th></th>\n",
       "      <th></th>\n",
       "      <th></th>\n",
       "      <th></th>\n",
       "      <th></th>\n",
       "      <th></th>\n",
       "      <th></th>\n",
       "    </tr>\n",
       "  </thead>\n",
       "  <tbody>\n",
       "  </tbody>\n",
       "</table>\n",
       "<p>0 rows × 36 columns</p>\n",
       "</div>"
      ],
      "text/plain": [
       "Empty DataFrame\n",
       "Columns: [STATE__, BGN_DATE, BGN_TIME, TIME_ZONE, COUNTY, COUNTYNAME, STATE, EVTYPE, BGN_RANGE, BGN_AZI, BGN_LOCATI, END_DATE, END_TIME, COUNTY_END, COUNTYENDN, END_RANGE, END_AZI, END_LOCATI, LENGTH, WIDTH, F, MAG, FATALITIES, INJURIES, PROPDMG, PROPDMGEXP, CROPDMG, CROPDMGEXP, WFO, STATEOFFIC, ZONENAMES, LATITUDE, LONGITUDE, LATITUDE_E, LONGITUDE_, REMARKS]\n",
       "Index: []\n",
       "\n",
       "[0 rows x 36 columns]"
      ]
     },
     "execution_count": 14,
     "metadata": {},
     "output_type": "execute_result"
    }
   ],
   "source": [
    "df.dropna() ## nothing left since there are missing values in every row"
   ]
  },
  {
   "cell_type": "code",
   "execution_count": 15,
   "metadata": {
    "collapsed": false
   },
   "outputs": [
    {
     "data": {
      "text/html": [
       "<div>\n",
       "<table border=\"1\" class=\"dataframe\">\n",
       "  <thead>\n",
       "    <tr style=\"text-align: right;\">\n",
       "      <th></th>\n",
       "      <th>STATE__</th>\n",
       "      <th>BGN_DATE</th>\n",
       "      <th>BGN_TIME</th>\n",
       "      <th>TIME_ZONE</th>\n",
       "      <th>COUNTY</th>\n",
       "      <th>...</th>\n",
       "      <th>INJURIES</th>\n",
       "      <th>PROPDMG</th>\n",
       "      <th>CROPDMG</th>\n",
       "      <th>LONGITUDE</th>\n",
       "      <th>LONGITUDE_</th>\n",
       "    </tr>\n",
       "    <tr>\n",
       "      <th>REFNUM</th>\n",
       "      <th></th>\n",
       "      <th></th>\n",
       "      <th></th>\n",
       "      <th></th>\n",
       "      <th></th>\n",
       "      <th></th>\n",
       "      <th></th>\n",
       "      <th></th>\n",
       "      <th></th>\n",
       "      <th></th>\n",
       "      <th></th>\n",
       "    </tr>\n",
       "  </thead>\n",
       "  <tbody>\n",
       "    <tr>\n",
       "      <th>1</th>\n",
       "      <td>1</td>\n",
       "      <td>4/18/1950 0:00:00</td>\n",
       "      <td>130</td>\n",
       "      <td>CST</td>\n",
       "      <td>97</td>\n",
       "      <td>...</td>\n",
       "      <td>15</td>\n",
       "      <td>25.0</td>\n",
       "      <td>0</td>\n",
       "      <td>8812</td>\n",
       "      <td>8806</td>\n",
       "    </tr>\n",
       "    <tr>\n",
       "      <th>2</th>\n",
       "      <td>1</td>\n",
       "      <td>4/18/1950 0:00:00</td>\n",
       "      <td>145</td>\n",
       "      <td>CST</td>\n",
       "      <td>3</td>\n",
       "      <td>...</td>\n",
       "      <td>0</td>\n",
       "      <td>2.5</td>\n",
       "      <td>0</td>\n",
       "      <td>8755</td>\n",
       "      <td>0</td>\n",
       "    </tr>\n",
       "    <tr>\n",
       "      <th>3</th>\n",
       "      <td>1</td>\n",
       "      <td>2/20/1951 0:00:00</td>\n",
       "      <td>1600</td>\n",
       "      <td>CST</td>\n",
       "      <td>57</td>\n",
       "      <td>...</td>\n",
       "      <td>2</td>\n",
       "      <td>25.0</td>\n",
       "      <td>0</td>\n",
       "      <td>8742</td>\n",
       "      <td>0</td>\n",
       "    </tr>\n",
       "    <tr>\n",
       "      <th>4</th>\n",
       "      <td>1</td>\n",
       "      <td>6/8/1951 0:00:00</td>\n",
       "      <td>900</td>\n",
       "      <td>CST</td>\n",
       "      <td>89</td>\n",
       "      <td>...</td>\n",
       "      <td>2</td>\n",
       "      <td>2.5</td>\n",
       "      <td>0</td>\n",
       "      <td>8626</td>\n",
       "      <td>0</td>\n",
       "    </tr>\n",
       "    <tr>\n",
       "      <th>5</th>\n",
       "      <td>1</td>\n",
       "      <td>11/15/1951 0:00:00</td>\n",
       "      <td>1500</td>\n",
       "      <td>CST</td>\n",
       "      <td>43</td>\n",
       "      <td>...</td>\n",
       "      <td>2</td>\n",
       "      <td>2.5</td>\n",
       "      <td>0</td>\n",
       "      <td>8642</td>\n",
       "      <td>0</td>\n",
       "    </tr>\n",
       "    <tr>\n",
       "      <th>...</th>\n",
       "      <td>...</td>\n",
       "      <td>...</td>\n",
       "      <td>...</td>\n",
       "      <td>...</td>\n",
       "      <td>...</td>\n",
       "      <td>...</td>\n",
       "      <td>...</td>\n",
       "      <td>...</td>\n",
       "      <td>...</td>\n",
       "      <td>...</td>\n",
       "      <td>...</td>\n",
       "    </tr>\n",
       "    <tr>\n",
       "      <th>902293</th>\n",
       "      <td>56</td>\n",
       "      <td>11/30/2011 0:00:00</td>\n",
       "      <td>10:30:00 PM</td>\n",
       "      <td>MST</td>\n",
       "      <td>7</td>\n",
       "      <td>...</td>\n",
       "      <td>0</td>\n",
       "      <td>0.0</td>\n",
       "      <td>0</td>\n",
       "      <td>0</td>\n",
       "      <td>0</td>\n",
       "    </tr>\n",
       "    <tr>\n",
       "      <th>902294</th>\n",
       "      <td>30</td>\n",
       "      <td>11/10/2011 0:00:00</td>\n",
       "      <td>02:48:00 PM</td>\n",
       "      <td>MST</td>\n",
       "      <td>9</td>\n",
       "      <td>...</td>\n",
       "      <td>0</td>\n",
       "      <td>0.0</td>\n",
       "      <td>0</td>\n",
       "      <td>0</td>\n",
       "      <td>0</td>\n",
       "    </tr>\n",
       "    <tr>\n",
       "      <th>902295</th>\n",
       "      <td>2</td>\n",
       "      <td>11/8/2011 0:00:00</td>\n",
       "      <td>02:58:00 PM</td>\n",
       "      <td>AKS</td>\n",
       "      <td>213</td>\n",
       "      <td>...</td>\n",
       "      <td>0</td>\n",
       "      <td>0.0</td>\n",
       "      <td>0</td>\n",
       "      <td>0</td>\n",
       "      <td>0</td>\n",
       "    </tr>\n",
       "    <tr>\n",
       "      <th>902296</th>\n",
       "      <td>2</td>\n",
       "      <td>11/9/2011 0:00:00</td>\n",
       "      <td>10:21:00 AM</td>\n",
       "      <td>AKS</td>\n",
       "      <td>202</td>\n",
       "      <td>...</td>\n",
       "      <td>0</td>\n",
       "      <td>0.0</td>\n",
       "      <td>0</td>\n",
       "      <td>0</td>\n",
       "      <td>0</td>\n",
       "    </tr>\n",
       "    <tr>\n",
       "      <th>902297</th>\n",
       "      <td>1</td>\n",
       "      <td>11/28/2011 0:00:00</td>\n",
       "      <td>08:00:00 PM</td>\n",
       "      <td>CST</td>\n",
       "      <td>6</td>\n",
       "      <td>...</td>\n",
       "      <td>0</td>\n",
       "      <td>0.0</td>\n",
       "      <td>0</td>\n",
       "      <td>0</td>\n",
       "      <td>0</td>\n",
       "    </tr>\n",
       "  </tbody>\n",
       "</table>\n",
       "<p>902297 rows × 19 columns</p>\n",
       "</div>"
      ],
      "text/plain": [
       "        STATE__            BGN_DATE     BGN_TIME TIME_ZONE  COUNTY  \\\n",
       "REFNUM                                                               \n",
       "1             1   4/18/1950 0:00:00          130       CST      97   \n",
       "2             1   4/18/1950 0:00:00          145       CST       3   \n",
       "3             1   2/20/1951 0:00:00         1600       CST      57   \n",
       "4             1    6/8/1951 0:00:00          900       CST      89   \n",
       "5             1  11/15/1951 0:00:00         1500       CST      43   \n",
       "...         ...                 ...          ...       ...     ...   \n",
       "902293       56  11/30/2011 0:00:00  10:30:00 PM       MST       7   \n",
       "902294       30  11/10/2011 0:00:00  02:48:00 PM       MST       9   \n",
       "902295        2   11/8/2011 0:00:00  02:58:00 PM       AKS     213   \n",
       "902296        2   11/9/2011 0:00:00  10:21:00 AM       AKS     202   \n",
       "902297        1  11/28/2011 0:00:00  08:00:00 PM       CST       6   \n",
       "\n",
       "           ...     INJURIES PROPDMG  CROPDMG  LONGITUDE  LONGITUDE_  \n",
       "REFNUM     ...                                                       \n",
       "1          ...           15    25.0        0       8812        8806  \n",
       "2          ...            0     2.5        0       8755           0  \n",
       "3          ...            2    25.0        0       8742           0  \n",
       "4          ...            2     2.5        0       8626           0  \n",
       "5          ...            2     2.5        0       8642           0  \n",
       "...        ...          ...     ...      ...        ...         ...  \n",
       "902293     ...            0     0.0        0          0           0  \n",
       "902294     ...            0     0.0        0          0           0  \n",
       "902295     ...            0     0.0        0          0           0  \n",
       "902296     ...            0     0.0        0          0           0  \n",
       "902297     ...            0     0.0        0          0           0  \n",
       "\n",
       "[902297 rows x 19 columns]"
      ]
     },
     "execution_count": 15,
     "metadata": {},
     "output_type": "execute_result"
    }
   ],
   "source": [
    "## drop columns with at least one NaN \n",
    "df.dropna(axis = 1) ## which is equivalent to df.dropna(how='any',axis=1)"
   ]
  },
  {
   "cell_type": "code",
   "execution_count": 16,
   "metadata": {
    "collapsed": false,
    "scrolled": false
   },
   "outputs": [
    {
     "data": {
      "text/html": [
       "<div>\n",
       "<table border=\"1\" class=\"dataframe\">\n",
       "  <thead>\n",
       "    <tr style=\"text-align: right;\">\n",
       "      <th></th>\n",
       "      <th>STATE__</th>\n",
       "      <th>BGN_DATE</th>\n",
       "      <th>BGN_TIME</th>\n",
       "      <th>TIME_ZONE</th>\n",
       "      <th>COUNTY</th>\n",
       "      <th>...</th>\n",
       "      <th>LATITUDE</th>\n",
       "      <th>LONGITUDE</th>\n",
       "      <th>LATITUDE_E</th>\n",
       "      <th>LONGITUDE_</th>\n",
       "      <th>REMARKS</th>\n",
       "    </tr>\n",
       "    <tr>\n",
       "      <th>REFNUM</th>\n",
       "      <th></th>\n",
       "      <th></th>\n",
       "      <th></th>\n",
       "      <th></th>\n",
       "      <th></th>\n",
       "      <th></th>\n",
       "      <th></th>\n",
       "      <th></th>\n",
       "      <th></th>\n",
       "      <th></th>\n",
       "      <th></th>\n",
       "    </tr>\n",
       "  </thead>\n",
       "  <tbody>\n",
       "    <tr>\n",
       "      <th>1</th>\n",
       "      <td>1</td>\n",
       "      <td>4/18/1950 0:00:00</td>\n",
       "      <td>130</td>\n",
       "      <td>CST</td>\n",
       "      <td>97</td>\n",
       "      <td>...</td>\n",
       "      <td>3040</td>\n",
       "      <td>8812</td>\n",
       "      <td>3051</td>\n",
       "      <td>8806</td>\n",
       "      <td>NaN</td>\n",
       "    </tr>\n",
       "    <tr>\n",
       "      <th>2</th>\n",
       "      <td>1</td>\n",
       "      <td>4/18/1950 0:00:00</td>\n",
       "      <td>145</td>\n",
       "      <td>CST</td>\n",
       "      <td>3</td>\n",
       "      <td>...</td>\n",
       "      <td>3042</td>\n",
       "      <td>8755</td>\n",
       "      <td>0</td>\n",
       "      <td>0</td>\n",
       "      <td>NaN</td>\n",
       "    </tr>\n",
       "    <tr>\n",
       "      <th>3</th>\n",
       "      <td>1</td>\n",
       "      <td>2/20/1951 0:00:00</td>\n",
       "      <td>1600</td>\n",
       "      <td>CST</td>\n",
       "      <td>57</td>\n",
       "      <td>...</td>\n",
       "      <td>3340</td>\n",
       "      <td>8742</td>\n",
       "      <td>0</td>\n",
       "      <td>0</td>\n",
       "      <td>NaN</td>\n",
       "    </tr>\n",
       "    <tr>\n",
       "      <th>4</th>\n",
       "      <td>1</td>\n",
       "      <td>6/8/1951 0:00:00</td>\n",
       "      <td>900</td>\n",
       "      <td>CST</td>\n",
       "      <td>89</td>\n",
       "      <td>...</td>\n",
       "      <td>3458</td>\n",
       "      <td>8626</td>\n",
       "      <td>0</td>\n",
       "      <td>0</td>\n",
       "      <td>NaN</td>\n",
       "    </tr>\n",
       "    <tr>\n",
       "      <th>5</th>\n",
       "      <td>1</td>\n",
       "      <td>11/15/1951 0:00:00</td>\n",
       "      <td>1500</td>\n",
       "      <td>CST</td>\n",
       "      <td>43</td>\n",
       "      <td>...</td>\n",
       "      <td>3412</td>\n",
       "      <td>8642</td>\n",
       "      <td>0</td>\n",
       "      <td>0</td>\n",
       "      <td>NaN</td>\n",
       "    </tr>\n",
       "    <tr>\n",
       "      <th>...</th>\n",
       "      <td>...</td>\n",
       "      <td>...</td>\n",
       "      <td>...</td>\n",
       "      <td>...</td>\n",
       "      <td>...</td>\n",
       "      <td>...</td>\n",
       "      <td>...</td>\n",
       "      <td>...</td>\n",
       "      <td>...</td>\n",
       "      <td>...</td>\n",
       "      <td>...</td>\n",
       "    </tr>\n",
       "    <tr>\n",
       "      <th>902293</th>\n",
       "      <td>56</td>\n",
       "      <td>11/30/2011 0:00:00</td>\n",
       "      <td>10:30:00 PM</td>\n",
       "      <td>MST</td>\n",
       "      <td>7</td>\n",
       "      <td>...</td>\n",
       "      <td>0</td>\n",
       "      <td>0</td>\n",
       "      <td>0</td>\n",
       "      <td>0</td>\n",
       "      <td>EPISODE NARRATIVE: A strong cold front moved s...</td>\n",
       "    </tr>\n",
       "    <tr>\n",
       "      <th>902294</th>\n",
       "      <td>30</td>\n",
       "      <td>11/10/2011 0:00:00</td>\n",
       "      <td>02:48:00 PM</td>\n",
       "      <td>MST</td>\n",
       "      <td>9</td>\n",
       "      <td>...</td>\n",
       "      <td>0</td>\n",
       "      <td>0</td>\n",
       "      <td>0</td>\n",
       "      <td>0</td>\n",
       "      <td>EPISODE NARRATIVE: A strong westerly flow alof...</td>\n",
       "    </tr>\n",
       "    <tr>\n",
       "      <th>902295</th>\n",
       "      <td>2</td>\n",
       "      <td>11/8/2011 0:00:00</td>\n",
       "      <td>02:58:00 PM</td>\n",
       "      <td>AKS</td>\n",
       "      <td>213</td>\n",
       "      <td>...</td>\n",
       "      <td>0</td>\n",
       "      <td>0</td>\n",
       "      <td>0</td>\n",
       "      <td>0</td>\n",
       "      <td>EPISODE NARRATIVE: A 960 mb low over the south...</td>\n",
       "    </tr>\n",
       "    <tr>\n",
       "      <th>902296</th>\n",
       "      <td>2</td>\n",
       "      <td>11/9/2011 0:00:00</td>\n",
       "      <td>10:21:00 AM</td>\n",
       "      <td>AKS</td>\n",
       "      <td>202</td>\n",
       "      <td>...</td>\n",
       "      <td>0</td>\n",
       "      <td>0</td>\n",
       "      <td>0</td>\n",
       "      <td>0</td>\n",
       "      <td>EPISODE NARRATIVE: A 960 mb low over the south...</td>\n",
       "    </tr>\n",
       "    <tr>\n",
       "      <th>902297</th>\n",
       "      <td>1</td>\n",
       "      <td>11/28/2011 0:00:00</td>\n",
       "      <td>08:00:00 PM</td>\n",
       "      <td>CST</td>\n",
       "      <td>6</td>\n",
       "      <td>...</td>\n",
       "      <td>0</td>\n",
       "      <td>0</td>\n",
       "      <td>0</td>\n",
       "      <td>0</td>\n",
       "      <td>EPISODE NARRATIVE: An intense upper level low ...</td>\n",
       "    </tr>\n",
       "  </tbody>\n",
       "</table>\n",
       "<p>902297 rows × 36 columns</p>\n",
       "</div>"
      ],
      "text/plain": [
       "        STATE__            BGN_DATE     BGN_TIME TIME_ZONE  COUNTY  \\\n",
       "REFNUM                                                               \n",
       "1             1   4/18/1950 0:00:00          130       CST      97   \n",
       "2             1   4/18/1950 0:00:00          145       CST       3   \n",
       "3             1   2/20/1951 0:00:00         1600       CST      57   \n",
       "4             1    6/8/1951 0:00:00          900       CST      89   \n",
       "5             1  11/15/1951 0:00:00         1500       CST      43   \n",
       "...         ...                 ...          ...       ...     ...   \n",
       "902293       56  11/30/2011 0:00:00  10:30:00 PM       MST       7   \n",
       "902294       30  11/10/2011 0:00:00  02:48:00 PM       MST       9   \n",
       "902295        2   11/8/2011 0:00:00  02:58:00 PM       AKS     213   \n",
       "902296        2   11/9/2011 0:00:00  10:21:00 AM       AKS     202   \n",
       "902297        1  11/28/2011 0:00:00  08:00:00 PM       CST       6   \n",
       "\n",
       "                              ...                         LATITUDE LONGITUDE  \\\n",
       "REFNUM                        ...                                              \n",
       "1                             ...                             3040      8812   \n",
       "2                             ...                             3042      8755   \n",
       "3                             ...                             3340      8742   \n",
       "4                             ...                             3458      8626   \n",
       "5                             ...                             3412      8642   \n",
       "...                           ...                              ...       ...   \n",
       "902293                        ...                                0         0   \n",
       "902294                        ...                                0         0   \n",
       "902295                        ...                                0         0   \n",
       "902296                        ...                                0         0   \n",
       "902297                        ...                                0         0   \n",
       "\n",
       "       LATITUDE_E  LONGITUDE_  \\\n",
       "REFNUM                          \n",
       "1            3051        8806   \n",
       "2               0           0   \n",
       "3               0           0   \n",
       "4               0           0   \n",
       "5               0           0   \n",
       "...           ...         ...   \n",
       "902293          0           0   \n",
       "902294          0           0   \n",
       "902295          0           0   \n",
       "902296          0           0   \n",
       "902297          0           0   \n",
       "\n",
       "                                                  REMARKS  \n",
       "REFNUM                                                     \n",
       "1                                                     NaN  \n",
       "2                                                     NaN  \n",
       "3                                                     NaN  \n",
       "4                                                     NaN  \n",
       "5                                                     NaN  \n",
       "...                                                   ...  \n",
       "902293  EPISODE NARRATIVE: A strong cold front moved s...  \n",
       "902294  EPISODE NARRATIVE: A strong westerly flow alof...  \n",
       "902295  EPISODE NARRATIVE: A 960 mb low over the south...  \n",
       "902296  EPISODE NARRATIVE: A 960 mb low over the south...  \n",
       "902297  EPISODE NARRATIVE: An intense upper level low ...  \n",
       "\n",
       "[902297 rows x 36 columns]"
      ]
     },
     "execution_count": 16,
     "metadata": {},
     "output_type": "execute_result"
    }
   ],
   "source": [
    "## drop rows with all values as NaN\n",
    "df.dropna(how='all')"
   ]
  },
  {
   "cell_type": "code",
   "execution_count": 17,
   "metadata": {
    "collapsed": false
   },
   "outputs": [
    {
     "data": {
      "text/html": [
       "<div>\n",
       "<table border=\"1\" class=\"dataframe\">\n",
       "  <thead>\n",
       "    <tr style=\"text-align: right;\">\n",
       "      <th></th>\n",
       "      <th>STATE__</th>\n",
       "      <th>BGN_DATE</th>\n",
       "      <th>BGN_TIME</th>\n",
       "      <th>TIME_ZONE</th>\n",
       "      <th>COUNTY</th>\n",
       "      <th>...</th>\n",
       "      <th>LATITUDE</th>\n",
       "      <th>LONGITUDE</th>\n",
       "      <th>LATITUDE_E</th>\n",
       "      <th>LONGITUDE_</th>\n",
       "      <th>REMARKS</th>\n",
       "    </tr>\n",
       "    <tr>\n",
       "      <th>REFNUM</th>\n",
       "      <th></th>\n",
       "      <th></th>\n",
       "      <th></th>\n",
       "      <th></th>\n",
       "      <th></th>\n",
       "      <th></th>\n",
       "      <th></th>\n",
       "      <th></th>\n",
       "      <th></th>\n",
       "      <th></th>\n",
       "      <th></th>\n",
       "    </tr>\n",
       "  </thead>\n",
       "  <tbody>\n",
       "    <tr>\n",
       "      <th>1</th>\n",
       "      <td>1</td>\n",
       "      <td>4/18/1950 0:00:00</td>\n",
       "      <td>130</td>\n",
       "      <td>CST</td>\n",
       "      <td>97</td>\n",
       "      <td>...</td>\n",
       "      <td>3040</td>\n",
       "      <td>8812</td>\n",
       "      <td>3051</td>\n",
       "      <td>8806</td>\n",
       "      <td>NaN</td>\n",
       "    </tr>\n",
       "    <tr>\n",
       "      <th>2</th>\n",
       "      <td>1</td>\n",
       "      <td>4/18/1950 0:00:00</td>\n",
       "      <td>145</td>\n",
       "      <td>CST</td>\n",
       "      <td>3</td>\n",
       "      <td>...</td>\n",
       "      <td>3042</td>\n",
       "      <td>8755</td>\n",
       "      <td>0</td>\n",
       "      <td>0</td>\n",
       "      <td>NaN</td>\n",
       "    </tr>\n",
       "    <tr>\n",
       "      <th>3</th>\n",
       "      <td>1</td>\n",
       "      <td>2/20/1951 0:00:00</td>\n",
       "      <td>1600</td>\n",
       "      <td>CST</td>\n",
       "      <td>57</td>\n",
       "      <td>...</td>\n",
       "      <td>3340</td>\n",
       "      <td>8742</td>\n",
       "      <td>0</td>\n",
       "      <td>0</td>\n",
       "      <td>NaN</td>\n",
       "    </tr>\n",
       "    <tr>\n",
       "      <th>4</th>\n",
       "      <td>1</td>\n",
       "      <td>6/8/1951 0:00:00</td>\n",
       "      <td>900</td>\n",
       "      <td>CST</td>\n",
       "      <td>89</td>\n",
       "      <td>...</td>\n",
       "      <td>3458</td>\n",
       "      <td>8626</td>\n",
       "      <td>0</td>\n",
       "      <td>0</td>\n",
       "      <td>NaN</td>\n",
       "    </tr>\n",
       "    <tr>\n",
       "      <th>5</th>\n",
       "      <td>1</td>\n",
       "      <td>11/15/1951 0:00:00</td>\n",
       "      <td>1500</td>\n",
       "      <td>CST</td>\n",
       "      <td>43</td>\n",
       "      <td>...</td>\n",
       "      <td>3412</td>\n",
       "      <td>8642</td>\n",
       "      <td>0</td>\n",
       "      <td>0</td>\n",
       "      <td>NaN</td>\n",
       "    </tr>\n",
       "    <tr>\n",
       "      <th>...</th>\n",
       "      <td>...</td>\n",
       "      <td>...</td>\n",
       "      <td>...</td>\n",
       "      <td>...</td>\n",
       "      <td>...</td>\n",
       "      <td>...</td>\n",
       "      <td>...</td>\n",
       "      <td>...</td>\n",
       "      <td>...</td>\n",
       "      <td>...</td>\n",
       "      <td>...</td>\n",
       "    </tr>\n",
       "    <tr>\n",
       "      <th>902293</th>\n",
       "      <td>56</td>\n",
       "      <td>11/30/2011 0:00:00</td>\n",
       "      <td>10:30:00 PM</td>\n",
       "      <td>MST</td>\n",
       "      <td>7</td>\n",
       "      <td>...</td>\n",
       "      <td>0</td>\n",
       "      <td>0</td>\n",
       "      <td>0</td>\n",
       "      <td>0</td>\n",
       "      <td>EPISODE NARRATIVE: A strong cold front moved s...</td>\n",
       "    </tr>\n",
       "    <tr>\n",
       "      <th>902294</th>\n",
       "      <td>30</td>\n",
       "      <td>11/10/2011 0:00:00</td>\n",
       "      <td>02:48:00 PM</td>\n",
       "      <td>MST</td>\n",
       "      <td>9</td>\n",
       "      <td>...</td>\n",
       "      <td>0</td>\n",
       "      <td>0</td>\n",
       "      <td>0</td>\n",
       "      <td>0</td>\n",
       "      <td>EPISODE NARRATIVE: A strong westerly flow alof...</td>\n",
       "    </tr>\n",
       "    <tr>\n",
       "      <th>902295</th>\n",
       "      <td>2</td>\n",
       "      <td>11/8/2011 0:00:00</td>\n",
       "      <td>02:58:00 PM</td>\n",
       "      <td>AKS</td>\n",
       "      <td>213</td>\n",
       "      <td>...</td>\n",
       "      <td>0</td>\n",
       "      <td>0</td>\n",
       "      <td>0</td>\n",
       "      <td>0</td>\n",
       "      <td>EPISODE NARRATIVE: A 960 mb low over the south...</td>\n",
       "    </tr>\n",
       "    <tr>\n",
       "      <th>902296</th>\n",
       "      <td>2</td>\n",
       "      <td>11/9/2011 0:00:00</td>\n",
       "      <td>10:21:00 AM</td>\n",
       "      <td>AKS</td>\n",
       "      <td>202</td>\n",
       "      <td>...</td>\n",
       "      <td>0</td>\n",
       "      <td>0</td>\n",
       "      <td>0</td>\n",
       "      <td>0</td>\n",
       "      <td>EPISODE NARRATIVE: A 960 mb low over the south...</td>\n",
       "    </tr>\n",
       "    <tr>\n",
       "      <th>902297</th>\n",
       "      <td>1</td>\n",
       "      <td>11/28/2011 0:00:00</td>\n",
       "      <td>08:00:00 PM</td>\n",
       "      <td>CST</td>\n",
       "      <td>6</td>\n",
       "      <td>...</td>\n",
       "      <td>0</td>\n",
       "      <td>0</td>\n",
       "      <td>0</td>\n",
       "      <td>0</td>\n",
       "      <td>EPISODE NARRATIVE: An intense upper level low ...</td>\n",
       "    </tr>\n",
       "  </tbody>\n",
       "</table>\n",
       "<p>902297 rows × 35 columns</p>\n",
       "</div>"
      ],
      "text/plain": [
       "        STATE__            BGN_DATE     BGN_TIME TIME_ZONE  COUNTY  \\\n",
       "REFNUM                                                               \n",
       "1             1   4/18/1950 0:00:00          130       CST      97   \n",
       "2             1   4/18/1950 0:00:00          145       CST       3   \n",
       "3             1   2/20/1951 0:00:00         1600       CST      57   \n",
       "4             1    6/8/1951 0:00:00          900       CST      89   \n",
       "5             1  11/15/1951 0:00:00         1500       CST      43   \n",
       "...         ...                 ...          ...       ...     ...   \n",
       "902293       56  11/30/2011 0:00:00  10:30:00 PM       MST       7   \n",
       "902294       30  11/10/2011 0:00:00  02:48:00 PM       MST       9   \n",
       "902295        2   11/8/2011 0:00:00  02:58:00 PM       AKS     213   \n",
       "902296        2   11/9/2011 0:00:00  10:21:00 AM       AKS     202   \n",
       "902297        1  11/28/2011 0:00:00  08:00:00 PM       CST       6   \n",
       "\n",
       "                              ...                         LATITUDE LONGITUDE  \\\n",
       "REFNUM                        ...                                              \n",
       "1                             ...                             3040      8812   \n",
       "2                             ...                             3042      8755   \n",
       "3                             ...                             3340      8742   \n",
       "4                             ...                             3458      8626   \n",
       "5                             ...                             3412      8642   \n",
       "...                           ...                              ...       ...   \n",
       "902293                        ...                                0         0   \n",
       "902294                        ...                                0         0   \n",
       "902295                        ...                                0         0   \n",
       "902296                        ...                                0         0   \n",
       "902297                        ...                                0         0   \n",
       "\n",
       "       LATITUDE_E  LONGITUDE_  \\\n",
       "REFNUM                          \n",
       "1            3051        8806   \n",
       "2               0           0   \n",
       "3               0           0   \n",
       "4               0           0   \n",
       "5               0           0   \n",
       "...           ...         ...   \n",
       "902293          0           0   \n",
       "902294          0           0   \n",
       "902295          0           0   \n",
       "902296          0           0   \n",
       "902297          0           0   \n",
       "\n",
       "                                                  REMARKS  \n",
       "REFNUM                                                     \n",
       "1                                                     NaN  \n",
       "2                                                     NaN  \n",
       "3                                                     NaN  \n",
       "4                                                     NaN  \n",
       "5                                                     NaN  \n",
       "...                                                   ...  \n",
       "902293  EPISODE NARRATIVE: A strong cold front moved s...  \n",
       "902294  EPISODE NARRATIVE: A strong westerly flow alof...  \n",
       "902295  EPISODE NARRATIVE: A 960 mb low over the south...  \n",
       "902296  EPISODE NARRATIVE: A 960 mb low over the south...  \n",
       "902297  EPISODE NARRATIVE: An intense upper level low ...  \n",
       "\n",
       "[902297 rows x 35 columns]"
      ]
     },
     "execution_count": 17,
     "metadata": {},
     "output_type": "execute_result"
    }
   ],
   "source": [
    "## drop columns with all values as NaN\n",
    "df.dropna(how='all',axis=1)"
   ]
  },
  {
   "cell_type": "code",
   "execution_count": 18,
   "metadata": {
    "collapsed": true
   },
   "outputs": [],
   "source": [
    "## one can also use threshold.\n",
    "#df.dropna(thresh=)"
   ]
  },
  {
   "cell_type": "markdown",
   "metadata": {},
   "source": [
    "## Duplicates"
   ]
  },
  {
   "cell_type": "code",
   "execution_count": 19,
   "metadata": {
    "collapsed": false
   },
   "outputs": [
    {
     "data": {
      "text/plain": [
       "REFNUM\n",
       "1         False\n",
       "2         False\n",
       "3         False\n",
       "4         False\n",
       "5         False\n",
       "          ...  \n",
       "902293    False\n",
       "902294    False\n",
       "902295    False\n",
       "902296    False\n",
       "902297    False\n",
       "dtype: bool"
      ]
     },
     "execution_count": 19,
     "metadata": {},
     "output_type": "execute_result"
    }
   ],
   "source": [
    "df.duplicated() ## check row duplicates, too many rows, cannot be seen, check sum()"
   ]
  },
  {
   "cell_type": "code",
   "execution_count": 20,
   "metadata": {
    "collapsed": false
   },
   "outputs": [
    {
     "data": {
      "text/plain": [
       "3143"
      ]
     },
     "execution_count": 20,
     "metadata": {},
     "output_type": "execute_result"
    }
   ],
   "source": [
    "df.duplicated().sum() ## 3134 duplicated rows"
   ]
  },
  {
   "cell_type": "code",
   "execution_count": 21,
   "metadata": {
    "collapsed": false
   },
   "outputs": [
    {
     "data": {
      "text/html": [
       "<div>\n",
       "<table border=\"1\" class=\"dataframe\">\n",
       "  <thead>\n",
       "    <tr style=\"text-align: right;\">\n",
       "      <th></th>\n",
       "      <th>STATE__</th>\n",
       "      <th>BGN_DATE</th>\n",
       "      <th>BGN_TIME</th>\n",
       "      <th>TIME_ZONE</th>\n",
       "      <th>COUNTY</th>\n",
       "      <th>...</th>\n",
       "      <th>LATITUDE</th>\n",
       "      <th>LONGITUDE</th>\n",
       "      <th>LATITUDE_E</th>\n",
       "      <th>LONGITUDE_</th>\n",
       "      <th>REMARKS</th>\n",
       "    </tr>\n",
       "    <tr>\n",
       "      <th>REFNUM</th>\n",
       "      <th></th>\n",
       "      <th></th>\n",
       "      <th></th>\n",
       "      <th></th>\n",
       "      <th></th>\n",
       "      <th></th>\n",
       "      <th></th>\n",
       "      <th></th>\n",
       "      <th></th>\n",
       "      <th></th>\n",
       "      <th></th>\n",
       "    </tr>\n",
       "  </thead>\n",
       "  <tbody>\n",
       "    <tr>\n",
       "      <th>19</th>\n",
       "      <td>1</td>\n",
       "      <td>5/10/1952 0:00:00</td>\n",
       "      <td>900</td>\n",
       "      <td>CST</td>\n",
       "      <td>57</td>\n",
       "      <td>...</td>\n",
       "      <td>3344</td>\n",
       "      <td>8745</td>\n",
       "      <td>0</td>\n",
       "      <td>0</td>\n",
       "      <td>NaN</td>\n",
       "    </tr>\n",
       "    <tr>\n",
       "      <th>20</th>\n",
       "      <td>1</td>\n",
       "      <td>5/10/1952 0:00:00</td>\n",
       "      <td>900</td>\n",
       "      <td>CST</td>\n",
       "      <td>57</td>\n",
       "      <td>...</td>\n",
       "      <td>3344</td>\n",
       "      <td>8745</td>\n",
       "      <td>0</td>\n",
       "      <td>0</td>\n",
       "      <td>NaN</td>\n",
       "    </tr>\n",
       "    <tr>\n",
       "      <th>260</th>\n",
       "      <td>1</td>\n",
       "      <td>7/4/1960 0:00:00</td>\n",
       "      <td>1750</td>\n",
       "      <td>CST</td>\n",
       "      <td>13</td>\n",
       "      <td>...</td>\n",
       "      <td>3139</td>\n",
       "      <td>8636</td>\n",
       "      <td>0</td>\n",
       "      <td>0</td>\n",
       "      <td>NaN</td>\n",
       "    </tr>\n",
       "    <tr>\n",
       "      <th>603</th>\n",
       "      <td>1</td>\n",
       "      <td>5/14/1967 0:00:00</td>\n",
       "      <td>2330</td>\n",
       "      <td>CST</td>\n",
       "      <td>77</td>\n",
       "      <td>...</td>\n",
       "      <td>3453</td>\n",
       "      <td>8730</td>\n",
       "      <td>0</td>\n",
       "      <td>0</td>\n",
       "      <td>NaN</td>\n",
       "    </tr>\n",
       "    <tr>\n",
       "      <th>604</th>\n",
       "      <td>1</td>\n",
       "      <td>5/14/1967 0:00:00</td>\n",
       "      <td>2330</td>\n",
       "      <td>CST</td>\n",
       "      <td>77</td>\n",
       "      <td>...</td>\n",
       "      <td>3453</td>\n",
       "      <td>8730</td>\n",
       "      <td>0</td>\n",
       "      <td>0</td>\n",
       "      <td>NaN</td>\n",
       "    </tr>\n",
       "    <tr>\n",
       "      <th>...</th>\n",
       "      <td>...</td>\n",
       "      <td>...</td>\n",
       "      <td>...</td>\n",
       "      <td>...</td>\n",
       "      <td>...</td>\n",
       "      <td>...</td>\n",
       "      <td>...</td>\n",
       "      <td>...</td>\n",
       "      <td>...</td>\n",
       "      <td>...</td>\n",
       "      <td>...</td>\n",
       "    </tr>\n",
       "    <tr>\n",
       "      <th>900771</th>\n",
       "      <td>38</td>\n",
       "      <td>10/7/2011 0:00:00</td>\n",
       "      <td>03:00:00 PM</td>\n",
       "      <td>CST</td>\n",
       "      <td>7</td>\n",
       "      <td>...</td>\n",
       "      <td>0</td>\n",
       "      <td>0</td>\n",
       "      <td>0</td>\n",
       "      <td>0</td>\n",
       "      <td>EPISODE NARRATIVE: A strong early October low ...</td>\n",
       "    </tr>\n",
       "    <tr>\n",
       "      <th>900806</th>\n",
       "      <td>27</td>\n",
       "      <td>10/7/2011 0:00:00</td>\n",
       "      <td>04:00:00 PM</td>\n",
       "      <td>CST</td>\n",
       "      <td>1</td>\n",
       "      <td>...</td>\n",
       "      <td>0</td>\n",
       "      <td>0</td>\n",
       "      <td>0</td>\n",
       "      <td>0</td>\n",
       "      <td>EPISODE NARRATIVE: A strong early October low ...</td>\n",
       "    </tr>\n",
       "    <tr>\n",
       "      <th>900807</th>\n",
       "      <td>36</td>\n",
       "      <td>10/29/2011 0:00:00</td>\n",
       "      <td>01:00:00 PM</td>\n",
       "      <td>EST</td>\n",
       "      <td>57</td>\n",
       "      <td>...</td>\n",
       "      <td>0</td>\n",
       "      <td>0</td>\n",
       "      <td>0</td>\n",
       "      <td>0</td>\n",
       "      <td>EPISODE NARRATIVE: An early season winter stor...</td>\n",
       "    </tr>\n",
       "    <tr>\n",
       "      <th>900808</th>\n",
       "      <td>38</td>\n",
       "      <td>10/24/2011 0:00:00</td>\n",
       "      <td>03:03:00 PM</td>\n",
       "      <td>CST</td>\n",
       "      <td>7</td>\n",
       "      <td>...</td>\n",
       "      <td>0</td>\n",
       "      <td>0</td>\n",
       "      <td>0</td>\n",
       "      <td>0</td>\n",
       "      <td>EPISODE NARRATIVE: Seasonably warm and dry con...</td>\n",
       "    </tr>\n",
       "    <tr>\n",
       "      <th>900809</th>\n",
       "      <td>27</td>\n",
       "      <td>10/5/2011 0:00:00</td>\n",
       "      <td>03:00:00 PM</td>\n",
       "      <td>CST</td>\n",
       "      <td>5</td>\n",
       "      <td>...</td>\n",
       "      <td>0</td>\n",
       "      <td>0</td>\n",
       "      <td>0</td>\n",
       "      <td>0</td>\n",
       "      <td>EPISODE NARRATIVE: A wildfire originated in Ju...</td>\n",
       "    </tr>\n",
       "  </tbody>\n",
       "</table>\n",
       "<p>3143 rows × 36 columns</p>\n",
       "</div>"
      ],
      "text/plain": [
       "        STATE__            BGN_DATE     BGN_TIME TIME_ZONE  COUNTY  \\\n",
       "REFNUM                                                               \n",
       "19            1   5/10/1952 0:00:00          900       CST      57   \n",
       "20            1   5/10/1952 0:00:00          900       CST      57   \n",
       "260           1    7/4/1960 0:00:00         1750       CST      13   \n",
       "603           1   5/14/1967 0:00:00         2330       CST      77   \n",
       "604           1   5/14/1967 0:00:00         2330       CST      77   \n",
       "...         ...                 ...          ...       ...     ...   \n",
       "900771       38   10/7/2011 0:00:00  03:00:00 PM       CST       7   \n",
       "900806       27   10/7/2011 0:00:00  04:00:00 PM       CST       1   \n",
       "900807       36  10/29/2011 0:00:00  01:00:00 PM       EST      57   \n",
       "900808       38  10/24/2011 0:00:00  03:03:00 PM       CST       7   \n",
       "900809       27   10/5/2011 0:00:00  03:00:00 PM       CST       5   \n",
       "\n",
       "                              ...                         LATITUDE LONGITUDE  \\\n",
       "REFNUM                        ...                                              \n",
       "19                            ...                             3344      8745   \n",
       "20                            ...                             3344      8745   \n",
       "260                           ...                             3139      8636   \n",
       "603                           ...                             3453      8730   \n",
       "604                           ...                             3453      8730   \n",
       "...                           ...                              ...       ...   \n",
       "900771                        ...                                0         0   \n",
       "900806                        ...                                0         0   \n",
       "900807                        ...                                0         0   \n",
       "900808                        ...                                0         0   \n",
       "900809                        ...                                0         0   \n",
       "\n",
       "       LATITUDE_E  LONGITUDE_  \\\n",
       "REFNUM                          \n",
       "19              0           0   \n",
       "20              0           0   \n",
       "260             0           0   \n",
       "603             0           0   \n",
       "604             0           0   \n",
       "...           ...         ...   \n",
       "900771          0           0   \n",
       "900806          0           0   \n",
       "900807          0           0   \n",
       "900808          0           0   \n",
       "900809          0           0   \n",
       "\n",
       "                                                  REMARKS  \n",
       "REFNUM                                                     \n",
       "19                                                    NaN  \n",
       "20                                                    NaN  \n",
       "260                                                   NaN  \n",
       "603                                                   NaN  \n",
       "604                                                   NaN  \n",
       "...                                                   ...  \n",
       "900771  EPISODE NARRATIVE: A strong early October low ...  \n",
       "900806  EPISODE NARRATIVE: A strong early October low ...  \n",
       "900807  EPISODE NARRATIVE: An early season winter stor...  \n",
       "900808  EPISODE NARRATIVE: Seasonably warm and dry con...  \n",
       "900809  EPISODE NARRATIVE: A wildfire originated in Ju...  \n",
       "\n",
       "[3143 rows x 36 columns]"
      ]
     },
     "execution_count": 21,
     "metadata": {},
     "output_type": "execute_result"
    }
   ],
   "source": [
    "df[df.duplicated()]"
   ]
  },
  {
   "cell_type": "code",
   "execution_count": 22,
   "metadata": {
    "collapsed": true
   },
   "outputs": [],
   "source": [
    "df.drop_duplicates(inplace=True)"
   ]
  },
  {
   "cell_type": "code",
   "execution_count": 23,
   "metadata": {
    "collapsed": false
   },
   "outputs": [
    {
     "data": {
      "text/plain": [
       "0"
      ]
     },
     "execution_count": 23,
     "metadata": {},
     "output_type": "execute_result"
    }
   ],
   "source": [
    "df.duplicated().sum()"
   ]
  },
  {
   "cell_type": "code",
   "execution_count": 24,
   "metadata": {
    "collapsed": false
   },
   "outputs": [
    {
     "data": {
      "text/plain": [
       "(899154, 36)"
      ]
     },
     "execution_count": 24,
     "metadata": {},
     "output_type": "execute_result"
    }
   ],
   "source": [
    "df.shape"
   ]
  },
  {
   "cell_type": "markdown",
   "metadata": {},
   "source": [
    "### Rename columns FATALITIES and INJURIES"
   ]
  },
  {
   "cell_type": "code",
   "execution_count": 25,
   "metadata": {
    "collapsed": false
   },
   "outputs": [],
   "source": [
    "df.rename(columns={'FATALITIES': 'Fatalities', 'INJURIES': 'Injuries'\n",
    "                  }, inplace=True)"
   ]
  },
  {
   "cell_type": "code",
   "execution_count": 26,
   "metadata": {
    "collapsed": false
   },
   "outputs": [
    {
     "data": {
      "text/plain": [
       "Index([u'STATE__', u'BGN_DATE', u'BGN_TIME', u'TIME_ZONE', u'COUNTY',\n",
       "       u'COUNTYNAME', u'STATE', u'EVTYPE', u'BGN_RANGE', u'BGN_AZI',\n",
       "       u'BGN_LOCATI', u'END_DATE', u'END_TIME', u'COUNTY_END', u'COUNTYENDN',\n",
       "       u'END_RANGE', u'END_AZI', u'END_LOCATI', u'LENGTH', u'WIDTH', u'F',\n",
       "       u'MAG', u'Fatalities', u'Injuries', u'PROPDMG', u'PROPDMGEXP',\n",
       "       u'CROPDMG', u'CROPDMGEXP', u'WFO', u'STATEOFFIC', u'ZONENAMES',\n",
       "       u'LATITUDE', u'LONGITUDE', u'LATITUDE_E', u'LONGITUDE_', u'REMARKS'],\n",
       "      dtype='object')"
      ]
     },
     "execution_count": 26,
     "metadata": {},
     "output_type": "execute_result"
    }
   ],
   "source": [
    "df.columns"
   ]
  },
  {
   "cell_type": "markdown",
   "metadata": {},
   "source": [
    "### Property and Crop Damage:\n",
    "* the unit for these two columns are different and now we need to make it consistent. "
   ]
  },
  {
   "cell_type": "code",
   "execution_count": 27,
   "metadata": {
    "collapsed": false
   },
   "outputs": [
    {
     "name": "stdout",
     "output_type": "stream",
     "text": [
      "18\n"
     ]
    },
    {
     "data": {
      "text/plain": [
       "['K',\n",
       " 'M',\n",
       " '0',\n",
       " 'B',\n",
       " '5',\n",
       " '1',\n",
       " '2',\n",
       " '?',\n",
       " 'm',\n",
       " 'H',\n",
       " '+',\n",
       " '7',\n",
       " '4',\n",
       " '3',\n",
       " '6',\n",
       " '-',\n",
       " '8',\n",
       " 'h']"
      ]
     },
     "execution_count": 27,
     "metadata": {},
     "output_type": "execute_result"
    }
   ],
   "source": [
    "print len(df.PROPDMGEXP.value_counts().index.tolist())\n",
    "df.PROPDMGEXP.value_counts().index.tolist()"
   ]
  },
  {
   "cell_type": "code",
   "execution_count": 28,
   "metadata": {
    "collapsed": false
   },
   "outputs": [
    {
     "name": "stdout",
     "output_type": "stream",
     "text": [
      "8\n"
     ]
    },
    {
     "data": {
      "text/plain": [
       "['K', 'M', 'k', '0', 'B', '?', 'm', '2']"
      ]
     },
     "execution_count": 28,
     "metadata": {},
     "output_type": "execute_result"
    }
   ],
   "source": [
    "print len(df.CROPDMGEXP.value_counts().index.tolist())\n",
    "df.CROPDMGEXP.value_counts().index.tolist()"
   ]
  },
  {
   "cell_type": "code",
   "execution_count": 29,
   "metadata": {
    "collapsed": false
   },
   "outputs": [
    {
     "name": "stdout",
     "output_type": "stream",
     "text": [
      "26\n",
      "19\n"
     ]
    },
    {
     "data": {
      "text/plain": [
       "['+',\n",
       " '-',\n",
       " '0',\n",
       " '1',\n",
       " '2',\n",
       " '3',\n",
       " '4',\n",
       " '5',\n",
       " '6',\n",
       " '7',\n",
       " '8',\n",
       " '?',\n",
       " 'B',\n",
       " 'H',\n",
       " 'K',\n",
       " 'M',\n",
       " 'h',\n",
       " 'k',\n",
       " 'm']"
      ]
     },
     "execution_count": 29,
     "metadata": {},
     "output_type": "execute_result"
    }
   ],
   "source": [
    "## combine two list and get the unique\n",
    "unit_list = df.PROPDMGEXP.value_counts().index.tolist() + df.CROPDMGEXP.value_counts().index.tolist()\n",
    "print len(unit_list)\n",
    "unit_list = list(set(unit_list))\n",
    "print len(unit_list)\n",
    "unit_list = sorted(unit_list)\n",
    "unit_list"
   ]
  },
  {
   "cell_type": "code",
   "execution_count": 30,
   "metadata": {
    "collapsed": true
   },
   "outputs": [],
   "source": [
    "exponent_to_multiplier = {\n",
    " np.nan: np.nan,\n",
    " '+': np.nan,\n",
    " '-': np.nan,\n",
    " '?': np.nan,\n",
    " '0': 10 ** 0,\n",
    " '1': 10 ** 1,\n",
    " '2': 10 ** 2,\n",
    " '3': 10 ** 3,\n",
    " '4': 10 ** 4,\n",
    " '5': 10 ** 5,\n",
    " '6': 10 ** 6,\n",
    " '7': 10 ** 7,\n",
    " '8': 10 ** 8,\n",
    " 'h': 10 ** 2,\n",
    " 'H': 10 ** 2,\n",
    " 'k': 10 ** 3,\n",
    " 'K': 10 ** 3,\n",
    " 'm': 10 ** 6,\n",
    " 'M': 10 ** 6,\n",
    " 'B': 10 ** 9,\n",
    "}"
   ]
  },
  {
   "cell_type": "code",
   "execution_count": 31,
   "metadata": {
    "collapsed": false
   },
   "outputs": [
    {
     "data": {
      "text/plain": [
       "REFNUM\n",
       "1         25000\n",
       "2          2500\n",
       "3         25000\n",
       "4          2500\n",
       "5          2500\n",
       "          ...  \n",
       "902293        0\n",
       "902294        0\n",
       "902295        0\n",
       "902296        0\n",
       "902297        0\n",
       "Name: PropertyDamage, dtype: float64"
      ]
     },
     "execution_count": 31,
     "metadata": {},
     "output_type": "execute_result"
    }
   ],
   "source": [
    "df['PropertyDamage'] = df.PROPDMG * df.PROPDMGEXP.map(exponent_to_multiplier)\n",
    "df['PropertyDamage']"
   ]
  },
  {
   "cell_type": "code",
   "execution_count": 32,
   "metadata": {
    "collapsed": false
   },
   "outputs": [
    {
     "data": {
      "text/plain": [
       "REFNUM\n",
       "1        NaN\n",
       "2        NaN\n",
       "3        NaN\n",
       "4        NaN\n",
       "5        NaN\n",
       "          ..\n",
       "902293     0\n",
       "902294     0\n",
       "902295     0\n",
       "902296     0\n",
       "902297     0\n",
       "Name: CropDamage, dtype: float64"
      ]
     },
     "execution_count": 32,
     "metadata": {},
     "output_type": "execute_result"
    }
   ],
   "source": [
    "df['CropDamage'] = df.CROPDMG * df.CROPDMGEXP.map(exponent_to_multiplier)\n",
    "df['CropDamage']"
   ]
  },
  {
   "cell_type": "code",
   "execution_count": 33,
   "metadata": {
    "collapsed": false
   },
   "outputs": [],
   "source": [
    "### drop unwanted columns\n",
    "df.drop(['CROPDMG','CROPDMGEXP','PROPDMG','PROPDMGEXP'], axis=1, inplace=True)"
   ]
  },
  {
   "cell_type": "code",
   "execution_count": 34,
   "metadata": {
    "collapsed": false
   },
   "outputs": [
    {
     "data": {
      "text/plain": [
       "(899154, 34)"
      ]
     },
     "execution_count": 34,
     "metadata": {},
     "output_type": "execute_result"
    }
   ],
   "source": [
    "df.shape"
   ]
  },
  {
   "cell_type": "code",
   "execution_count": 35,
   "metadata": {
    "collapsed": true
   },
   "outputs": [],
   "source": [
    "fatalities = df.Fatalities.sum()\n",
    "injuries = df.Injuries.sum()\n",
    "property_damage = df.PropertyDamage.sum()\n",
    "crop_damage = df.CropDamage.sum()"
   ]
  },
  {
   "cell_type": "code",
   "execution_count": 36,
   "metadata": {
    "collapsed": false
   },
   "outputs": [
    {
     "name": "stdout",
     "output_type": "stream",
     "text": [
      "15081.0\n",
      "139710.0\n",
      "426636.961988\n",
      "49028.86267\n"
     ]
    }
   ],
   "source": [
    "print fatalities\n",
    "print injuries\n",
    "print property_damage/10**6\n",
    "print crop_damage/10**6"
   ]
  },
  {
   "cell_type": "code",
   "execution_count": 37,
   "metadata": {
    "collapsed": false
   },
   "outputs": [
    {
     "name": "stdout",
     "output_type": "stream",
     "text": [
      "(231752, 34)\n"
     ]
    },
    {
     "data": {
      "text/html": [
       "<div>\n",
       "<table border=\"1\" class=\"dataframe\">\n",
       "  <thead>\n",
       "    <tr style=\"text-align: right;\">\n",
       "      <th></th>\n",
       "      <th>STATE__</th>\n",
       "      <th>BGN_DATE</th>\n",
       "      <th>BGN_TIME</th>\n",
       "      <th>TIME_ZONE</th>\n",
       "      <th>COUNTY</th>\n",
       "      <th>...</th>\n",
       "      <th>LATITUDE_E</th>\n",
       "      <th>LONGITUDE_</th>\n",
       "      <th>REMARKS</th>\n",
       "      <th>PropertyDamage</th>\n",
       "      <th>CropDamage</th>\n",
       "    </tr>\n",
       "    <tr>\n",
       "      <th>REFNUM</th>\n",
       "      <th></th>\n",
       "      <th></th>\n",
       "      <th></th>\n",
       "      <th></th>\n",
       "      <th></th>\n",
       "      <th></th>\n",
       "      <th></th>\n",
       "      <th></th>\n",
       "      <th></th>\n",
       "      <th></th>\n",
       "      <th></th>\n",
       "    </tr>\n",
       "  </thead>\n",
       "  <tbody>\n",
       "    <tr>\n",
       "      <th>1</th>\n",
       "      <td>1</td>\n",
       "      <td>4/18/1950 0:00:00</td>\n",
       "      <td>130</td>\n",
       "      <td>CST</td>\n",
       "      <td>97</td>\n",
       "      <td>...</td>\n",
       "      <td>3051</td>\n",
       "      <td>8806</td>\n",
       "      <td>NaN</td>\n",
       "      <td>25000</td>\n",
       "      <td>NaN</td>\n",
       "    </tr>\n",
       "    <tr>\n",
       "      <th>2</th>\n",
       "      <td>1</td>\n",
       "      <td>4/18/1950 0:00:00</td>\n",
       "      <td>145</td>\n",
       "      <td>CST</td>\n",
       "      <td>3</td>\n",
       "      <td>...</td>\n",
       "      <td>0</td>\n",
       "      <td>0</td>\n",
       "      <td>NaN</td>\n",
       "      <td>2500</td>\n",
       "      <td>NaN</td>\n",
       "    </tr>\n",
       "  </tbody>\n",
       "</table>\n",
       "<p>2 rows × 34 columns</p>\n",
       "</div>"
      ],
      "text/plain": [
       "        STATE__           BGN_DATE BGN_TIME TIME_ZONE  COUNTY    ...      \\\n",
       "REFNUM                                                           ...       \n",
       "1             1  4/18/1950 0:00:00      130       CST      97    ...       \n",
       "2             1  4/18/1950 0:00:00      145       CST       3    ...       \n",
       "\n",
       "       LATITUDE_E LONGITUDE_ REMARKS  PropertyDamage CropDamage  \n",
       "REFNUM                                                           \n",
       "1            3051       8806     NaN           25000        NaN  \n",
       "2               0          0     NaN            2500        NaN  \n",
       "\n",
       "[2 rows x 34 columns]"
      ]
     },
     "execution_count": 37,
     "metadata": {},
     "output_type": "execute_result"
    }
   ],
   "source": [
    "## operator chaining - drop rows if all values in these four columns are less or equal to zero\n",
    "df = df[(df['Fatalities'] > 0) | (df['Injuries'] > 0) | (df['PropertyDamage']) >0 | (df['CropDamage'] > 0)]\n",
    "print df.shape\n",
    "df.head(2)"
   ]
  },
  {
   "cell_type": "markdown",
   "metadata": {},
   "source": [
    "### Event Type"
   ]
  },
  {
   "cell_type": "code",
   "execution_count": 38,
   "metadata": {
    "collapsed": false
   },
   "outputs": [
    {
     "data": {
      "text/plain": [
       "Index([u'STATE__', u'BGN_DATE', u'BGN_TIME', u'TIME_ZONE', u'COUNTY',\n",
       "       u'COUNTYNAME', u'STATE', u'EVTYPE', u'BGN_RANGE', u'BGN_AZI',\n",
       "       u'BGN_LOCATI', u'END_DATE', u'END_TIME', u'COUNTY_END', u'COUNTYENDN',\n",
       "       u'END_RANGE', u'END_AZI', u'END_LOCATI', u'LENGTH', u'WIDTH', u'F',\n",
       "       u'MAG', u'Fatalities', u'Injuries', u'WFO', u'STATEOFFIC', u'ZONENAMES',\n",
       "       u'LATITUDE', u'LONGITUDE', u'LATITUDE_E', u'LONGITUDE_', u'REMARKS',\n",
       "       u'PropertyDamage', u'CropDamage'],\n",
       "      dtype='object')"
      ]
     },
     "execution_count": 38,
     "metadata": {},
     "output_type": "execute_result"
    }
   ],
   "source": [
    "df.columns"
   ]
  },
  {
   "cell_type": "code",
   "execution_count": 39,
   "metadata": {
    "collapsed": false
   },
   "outputs": [
    {
     "data": {
      "text/plain": [
       "array(['   HIGH SURF ADVISORY', ' FLASH FLOOD', ' TSTM WIND',\n",
       "       ' TSTM WIND (G45)', '?', 'APACHE COUNTY', 'ASTRONOMICAL HIGH TIDE',\n",
       "       'ASTRONOMICAL LOW TIDE', 'AVALANCE', 'AVALANCHE', 'BLACK ICE',\n",
       "       'BLIZZARD', 'BLIZZARD/WINTER STORM', 'BLOWING DUST', 'BLOWING SNOW',\n",
       "       'BRUSH FIRE', 'Beach Erosion', 'COASTAL  FLOODING/EROSION',\n",
       "       'COASTAL EROSION', 'COASTAL FLOOD', 'COASTAL FLOODING',\n",
       "       'COASTAL FLOODING/EROSION', 'COASTAL STORM', 'COASTAL SURGE',\n",
       "       'COASTALSTORM', 'COLD', 'COLD AND SNOW', 'COLD WAVE',\n",
       "       'COLD WEATHER', 'COLD/WIND CHILL', 'COLD/WINDS', 'Coastal Flood',\n",
       "       'Coastal Flooding', 'Coastal Storm', 'Cold', 'Cold Temperature',\n",
       "       'DAM BREAK', 'DAMAGING FREEZE', 'DENSE FOG', 'DENSE SMOKE',\n",
       "       'DOWNBURST', 'DROUGHT', 'DROUGHT/EXCESSIVE HEAT', 'DROWNING',\n",
       "       'DRY MICROBURST', 'DRY MIRCOBURST WINDS', 'DUST DEVIL',\n",
       "       'DUST DEVIL WATERSPOUT', 'DUST STORM', 'Dust Devil',\n",
       "       'EXCESSIVE HEAT', 'EXCESSIVE RAINFALL', 'EXCESSIVE SNOW',\n",
       "       'EXTREME COLD', 'EXTREME COLD/WIND CHILL', 'EXTREME HEAT',\n",
       "       'EXTREME WIND CHILL', 'EXTREME WINDCHILL', 'Erosion/Cstl Flood',\n",
       "       'Extended Cold', 'Extreme Cold', 'FALLING SNOW/ICE', 'FLASH FLOOD',\n",
       "       'FLASH FLOOD - HEAVY RAIN', 'FLASH FLOOD FROM ICE JAMS',\n",
       "       'FLASH FLOOD LANDSLIDES', 'FLASH FLOOD/', 'FLASH FLOOD/ STREET',\n",
       "       'FLASH FLOOD/FLOOD', 'FLASH FLOOD/LANDSLIDE', 'FLASH FLOODING',\n",
       "       'FLASH FLOODING/THUNDERSTORM WI', 'FLASH FLOODS', 'FLOOD',\n",
       "       'FLOOD & HEAVY RAIN', 'FLOOD FLASH', 'FLOOD/FLASH',\n",
       "       'FLOOD/FLASH FLOOD', 'FLOOD/FLASH/FLOOD', 'FLOOD/FLASHFLOOD',\n",
       "       'FLOOD/RIVER FLOOD', 'FLOODING', 'FLOODS', 'FOG',\n",
       "       'FOG AND COLD TEMPERATURES', 'FREEZE', 'FREEZING DRIZZLE',\n",
       "       'FREEZING FOG', 'FREEZING RAIN', 'FREEZING RAIN/SLEET',\n",
       "       'FREEZING RAIN/SNOW', 'FROST', 'FROST/FREEZE', 'FROST\\\\FREEZE',\n",
       "       'FUNNEL CLOUD', 'Freezing Drizzle', 'Freezing Rain',\n",
       "       'Freezing Spray', 'Freezing drizzle', 'GLAZE', 'GLAZE/ICE STORM',\n",
       "       'GRADIENT WIND', 'GRASS FIRES', 'GROUND BLIZZARD', 'GUSTNADO',\n",
       "       'GUSTY WIND', 'GUSTY WIND/HAIL', 'GUSTY WIND/HVY RAIN',\n",
       "       'GUSTY WINDS', 'Glaze', 'Gradient wind', 'Gusty Winds',\n",
       "       'Gusty wind/rain', 'Gusty winds', 'HAIL', 'HAIL 0.75', 'HAIL 175',\n",
       "       'HAIL 275', 'HAIL 450', 'HAIL 75', 'HAIL DAMAGE', 'HAILSTORM',\n",
       "       'HAZARDOUS SURF', 'HEAT', 'HEAT WAVE', 'HEAT WAVES',\n",
       "       'HEAVY LAKE SNOW', 'HEAVY MIX', 'HEAVY PRECIPITATION', 'HEAVY RAIN',\n",
       "       'HEAVY RAIN AND FLOOD', 'HEAVY RAIN/LIGHTNING',\n",
       "       'HEAVY RAIN/SEVERE WEATHER', 'HEAVY RAIN/SMALL STREAM URBAN',\n",
       "       'HEAVY RAIN/SNOW', 'HEAVY RAINS', 'HEAVY RAINS/FLOODING',\n",
       "       'HEAVY SEAS', 'HEAVY SHOWER', 'HEAVY SNOW',\n",
       "       'HEAVY SNOW AND HIGH WINDS', 'HEAVY SNOW AND STRONG WINDS',\n",
       "       'HEAVY SNOW SQUALLS', 'HEAVY SNOW-SQUALLS', 'HEAVY SNOW/BLIZZARD',\n",
       "       'HEAVY SNOW/BLIZZARD/AVALANCHE', 'HEAVY SNOW/FREEZING RAIN',\n",
       "       'HEAVY SNOW/ICE', 'HEAVY SNOW/SQUALLS', 'HEAVY SNOW/WIND',\n",
       "       'HEAVY SNOW/WINTER STORM', 'HEAVY SNOWPACK', 'HEAVY SURF',\n",
       "       'HEAVY SURF COASTAL FLOODING', 'HEAVY SURF/HIGH SURF',\n",
       "       'HEAVY SWELLS', 'HIGH', 'HIGH  WINDS', 'HIGH SEAS', 'HIGH SURF',\n",
       "       'HIGH SWELLS', 'HIGH TIDES', 'HIGH WATER', 'HIGH WAVES',\n",
       "       'HIGH WIND', 'HIGH WIND (G40)', 'HIGH WIND 48',\n",
       "       'HIGH WIND AND SEAS', 'HIGH WIND DAMAGE', 'HIGH WIND/BLIZZARD',\n",
       "       'HIGH WIND/HEAVY SNOW', 'HIGH WIND/SEAS', 'HIGH WINDS',\n",
       "       'HIGH WINDS/', 'HIGH WINDS/COASTAL FLOOD', 'HIGH WINDS/HEAVY RAIN',\n",
       "       'HIGH WINDS/SNOW', 'HURRICANE', 'HURRICANE EMILY', 'HURRICANE ERIN',\n",
       "       'HURRICANE GORDON', 'HURRICANE OPAL', 'HURRICANE-GENERATED SWELLS',\n",
       "       'HURRICANE/TYPHOON', 'HYPERTHERMIA/EXPOSURE', 'HYPOTHERMIA',\n",
       "       'HYPOTHERMIA/EXPOSURE', 'Heat Wave', 'Heavy Surf',\n",
       "       'Heavy snow shower', 'Heavy surf and wind', 'High Surf',\n",
       "       'Hurricane Edouard', 'Hypothermia/Exposure', 'ICE', 'ICE AND SNOW',\n",
       "       'ICE FLOES', 'ICE JAM', 'ICE JAM FLOODING', 'ICE ON ROAD',\n",
       "       'ICE ROADS', 'ICE STORM', 'ICE STORM/FLASH FLOOD',\n",
       "       'ICE/STRONG WINDS', 'ICY ROADS', 'Ice jam flood (minor',\n",
       "       'LAKE EFFECT SNOW', 'LAKE FLOOD', 'LAKE-EFFECT SNOW',\n",
       "       'LAKESHORE FLOOD', 'LANDSLIDE', 'LANDSLIDES', 'LANDSPOUT',\n",
       "       'LATE SEASON SNOW', 'LIGHT FREEZING RAIN', 'LIGHT SNOW', 'LIGHTING',\n",
       "       'LIGHTNING', 'LIGHTNING  WAUSEON', 'LIGHTNING AND HEAVY RAIN',\n",
       "       'LIGHTNING AND THUNDERSTORM WIN', 'LIGHTNING FIRE',\n",
       "       'LIGHTNING INJURY', 'LIGHTNING THUNDERSTORM WINDS', 'LIGHTNING.',\n",
       "       'LIGHTNING/HEAVY RAIN', 'LIGNTNING', 'LOW TEMPERATURE',\n",
       "       'Lake Effect Snow', 'Landslump', 'Light Snow', 'Light Snowfall',\n",
       "       'Light snow', 'MAJOR FLOOD', 'MARINE HAIL', 'MARINE HIGH WIND',\n",
       "       'MARINE MISHAP', 'MARINE STRONG WIND', 'MARINE THUNDERSTORM WIND',\n",
       "       'MARINE TSTM WIND', 'MICROBURST', 'MICROBURST WINDS',\n",
       "       'MINOR FLOODING', 'MIXED PRECIP', 'MIXED PRECIPITATION',\n",
       "       'MUD SLIDE', 'MUD SLIDES', 'MUD SLIDES URBAN FLOODING', 'MUDSLIDE',\n",
       "       'MUDSLIDES', 'Marine Accident', 'Microburst', 'Mixed Precipitation',\n",
       "       'Mudslide', 'Mudslides', 'NON TSTM WIND', 'NON-SEVERE WIND DAMAGE',\n",
       "       'NON-TSTM WIND', 'OTHER', 'Other', 'RAIN', 'RAIN/SNOW', 'RAIN/WIND',\n",
       "       'RAINSTORM', 'RAPIDLY RISING WATER', 'RECORD COLD', 'RECORD HEAT',\n",
       "       'RECORD RAINFALL', 'RECORD SNOW', 'RECORD/EXCESSIVE HEAT',\n",
       "       'RIP CURRENT', 'RIP CURRENTS', 'RIP CURRENTS/HEAVY SURF',\n",
       "       'RIVER AND STREAM FLOOD', 'RIVER FLOOD', 'RIVER FLOODING',\n",
       "       'ROCK SLIDE', 'ROGUE WAVE', 'ROUGH SEAS', 'ROUGH SURF',\n",
       "       'RURAL FLOOD', 'River Flooding', 'SEICHE', 'SEVERE THUNDERSTORM',\n",
       "       'SEVERE THUNDERSTORM WINDS', 'SEVERE THUNDERSTORMS',\n",
       "       'SEVERE TURBULENCE', 'SLEET', 'SLEET/ICE STORM', 'SMALL HAIL',\n",
       "       'SNOW', 'SNOW ACCUMULATION', 'SNOW AND HEAVY SNOW', 'SNOW AND ICE',\n",
       "       'SNOW AND ICE STORM', 'SNOW FREEZING RAIN', 'SNOW SQUALL',\n",
       "       'SNOW SQUALLS', 'SNOW/ BITTER COLD', 'SNOW/ ICE',\n",
       "       'SNOW/BLOWING SNOW', 'SNOW/COLD', 'SNOW/FREEZING RAIN',\n",
       "       'SNOW/HEAVY SNOW', 'SNOW/HIGH WINDS', 'SNOW/ICE', 'SNOW/ICE STORM',\n",
       "       'SNOW/SLEET', 'SNOW/SLEET/FREEZING RAIN', 'SNOWMELT FLOODING',\n",
       "       'STORM FORCE WINDS', 'STORM SURGE', 'STORM SURGE/TIDE',\n",
       "       'STRONG WIND', 'STRONG WINDS', 'Snow', 'Snow Squalls',\n",
       "       'Strong Wind', 'Strong Winds', 'THUNDEERSTORM WINDS',\n",
       "       'THUNDERESTORM WINDS', 'THUNDERSNOW', 'THUNDERSTORM',\n",
       "       'THUNDERSTORM  WINDS', 'THUNDERSTORM DAMAGE TO',\n",
       "       'THUNDERSTORM WIND', 'THUNDERSTORM WIND (G40)',\n",
       "       'THUNDERSTORM WIND 60 MPH', 'THUNDERSTORM WIND 65 MPH',\n",
       "       'THUNDERSTORM WIND 65MPH', 'THUNDERSTORM WIND 98 MPH',\n",
       "       'THUNDERSTORM WIND G50', 'THUNDERSTORM WIND G52',\n",
       "       'THUNDERSTORM WIND G55', 'THUNDERSTORM WIND TREES',\n",
       "       'THUNDERSTORM WIND/ TREE', 'THUNDERSTORM WIND/ TREES',\n",
       "       'THUNDERSTORM WIND/AWNING', 'THUNDERSTORM WIND/HAIL',\n",
       "       'THUNDERSTORM WIND/LIGHTNING', 'THUNDERSTORM WINDS',\n",
       "       'THUNDERSTORM WINDS 13', 'THUNDERSTORM WINDS 63 MPH',\n",
       "       'THUNDERSTORM WINDS AND', 'THUNDERSTORM WINDS HAIL',\n",
       "       'THUNDERSTORM WINDS LIGHTNING', 'THUNDERSTORM WINDS.',\n",
       "       'THUNDERSTORM WINDS/ FLOOD', 'THUNDERSTORM WINDS/FLOODING',\n",
       "       'THUNDERSTORM WINDS/FUNNEL CLOU', 'THUNDERSTORM WINDS/HAIL',\n",
       "       'THUNDERSTORM WINDS53', 'THUNDERSTORM WINDSHAIL',\n",
       "       'THUNDERSTORM WINDSS', 'THUNDERSTORM WINS', 'THUNDERSTORMS WIND',\n",
       "       'THUNDERSTORMS WINDS', 'THUNDERSTORMW', 'THUNDERSTORMWINDS',\n",
       "       'THUNDERSTROM WIND', 'THUNDERTORM WINDS', 'THUNERSTORM WINDS',\n",
       "       'TIDAL FLOODING', 'TORNADO', 'TORNADO F0', 'TORNADO F1',\n",
       "       'TORNADO F2', 'TORNADO F3', 'TORNDAO', 'TROPICAL DEPRESSION',\n",
       "       'TROPICAL STORM', 'TROPICAL STORM ALBERTO', 'TSTM WIND',\n",
       "       'TSTM WIND  (G45)', 'TSTM WIND (41)', 'TSTM WIND (G35)',\n",
       "       'TSTM WIND (G40)', 'TSTM WIND (G45)', 'TSTM WIND 40',\n",
       "       'TSTM WIND 45', 'TSTM WIND 55', 'TSTM WIND 65)',\n",
       "       'TSTM WIND AND LIGHTNING', 'TSTM WIND DAMAGE', 'TSTM WIND G45',\n",
       "       'TSTM WIND G58', 'TSTM WIND/HAIL', 'TSTM WINDS', 'TSTMW', 'TSUNAMI',\n",
       "       'TUNDERSTORM WIND', 'TYPHOON', 'Tidal Flooding',\n",
       "       'Torrential Rainfall', 'Tstm Wind', 'UNSEASONABLY COLD',\n",
       "       'UNSEASONABLY WARM', 'UNSEASONABLY WARM AND DRY', 'URBAN AND SMALL',\n",
       "       'URBAN AND SMALL STREAM FLOODIN', 'URBAN FLOOD', 'URBAN FLOODING',\n",
       "       'URBAN FLOODS', 'URBAN SMALL', 'URBAN/SMALL STREAM',\n",
       "       'URBAN/SMALL STREAM FLOOD', 'URBAN/SML STREAM FLD', 'VOLCANIC ASH',\n",
       "       'WARM WEATHER', 'WATERSPOUT', 'WATERSPOUT TORNADO', 'WATERSPOUT-',\n",
       "       'WATERSPOUT-TORNADO', 'WATERSPOUT/ TORNADO', 'WATERSPOUT/TORNADO',\n",
       "       'WET MICROBURST', 'WHIRLWIND', 'WILD FIRES', 'WILD/FOREST FIRE',\n",
       "       'WILDFIRE', 'WILDFIRES', 'WIND', 'WIND AND WAVE', 'WIND DAMAGE',\n",
       "       'WIND STORM', 'WIND/HAIL', 'WINDS', 'WINTER STORM',\n",
       "       'WINTER WEATHER', 'WINTER WEATHER MIX', 'WINTER WEATHER/MIX',\n",
       "       'WINTRY MIX', 'Whirlwind', 'Wind', 'Wind Damage', 'Wintry Mix',\n",
       "       'blowing snow', 'gradient wind'], dtype=object)"
      ]
     },
     "execution_count": 39,
     "metadata": {},
     "output_type": "execute_result"
    }
   ],
   "source": [
    "np.sort(df.EVTYPE.unique()) ## upper case and lower case are treated different in unique() method. so we transform all \n",
    "## the type to upper case. "
   ]
  },
  {
   "cell_type": "code",
   "execution_count": 42,
   "metadata": {
    "collapsed": false
   },
   "outputs": [
    {
     "data": {
      "text/plain": [
       "438"
      ]
     },
     "execution_count": 42,
     "metadata": {},
     "output_type": "execute_result"
    }
   ],
   "source": [
    "len(np.sort(df.EVTYPE.unique()))"
   ]
  },
  {
   "cell_type": "code",
   "execution_count": 41,
   "metadata": {
    "collapsed": false
   },
   "outputs": [
    {
     "data": {
      "text/plain": [
       "array(['TORNADO', 'TSTM WIND', 'HAIL', 'ICE STORM/FLASH FLOOD',\n",
       "       'WINTER STORM', 'THUNDERSTORM WINDS', 'HEAVY RAIN', 'LIGHTNING',\n",
       "       'THUNDERSTORM WIND', 'DENSE FOG', 'RIP CURRENT',\n",
       "       'THUNDERSTORM WINS', 'FLASH FLOODING', 'FLASH FLOOD', 'TORNADO F0',\n",
       "       'THUNDERSTORM WINDS LIGHTNING', 'HEAT', 'HIGH WINDS', 'WIND',\n",
       "       'HEAVY RAINS', 'LIGHTNING AND HEAVY RAIN',\n",
       "       'THUNDERSTORM WINDS HAIL', 'COLD', 'HEAVY RAIN/LIGHTNING',\n",
       "       'THUNDERSTORM WINDS/HAIL', 'FLASH FLOODING/THUNDERSTORM WI',\n",
       "       'WATERSPOUT', 'EXTREME COLD', 'LIGHTNING/HEAVY RAIN', 'HIGH WIND',\n",
       "       'FREEZE', 'RIVER FLOOD', 'AVALANCHE', 'MARINE MISHAP', 'HIGH TIDES',\n",
       "       'HIGH WIND/SEAS', 'HIGH WINDS/HEAVY RAIN', 'HIGH SEAS',\n",
       "       'COASTAL FLOOD', 'SEVERE TURBULENCE', 'RECORD RAINFALL',\n",
       "       'HEAVY SNOW', 'HEAVY SNOW/WIND', 'DUST STORM', 'FLOOD',\n",
       "       'APACHE COUNTY', 'SLEET', 'DUST DEVIL', 'ICE STORM',\n",
       "       'EXCESSIVE HEAT', 'THUNDERSTORM WINDS/FUNNEL CLOU', 'GUSTY WINDS',\n",
       "       'HEAVY SURF COASTAL FLOODING', 'HIGH SURF', 'WILD FIRES', 'HIGH',\n",
       "       'MUDSLIDES', 'RAINSTORM', 'SEVERE THUNDERSTORM',\n",
       "       'THUNDERSTORMS WINDS', 'FLOOD/FLASH FLOOD',\n",
       "       'SEVERE THUNDERSTORM WINDS', 'FLOODING', 'FUNNEL CLOUD',\n",
       "       'HIGH WIND DAMAGE', 'STRONG WIND', 'HEAVY SNOWPACK', 'FLASH FLOOD/',\n",
       "       'HEAVY SURF', 'DRY MIRCOBURST WINDS', 'WINDS', 'DRY MICROBURST',\n",
       "       'URBAN FLOOD', 'THUNDERSTORM WINDSS', 'MICROBURST WINDS',\n",
       "       'HEAT WAVE', 'UNSEASONABLY WARM', 'COASTAL FLOODING',\n",
       "       'STRONG WINDS', 'BLIZZARD', 'WATERSPOUT/TORNADO',\n",
       "       'WATERSPOUT TORNADO', 'STORM SURGE', 'URBAN/SMALL STREAM FLOOD',\n",
       "       'HURRICANE OPAL', 'WATERSPOUT-', 'TROPICAL STORM ALBERTO',\n",
       "       'TROPICAL STORM', 'HURRICANE ERIN', 'LIGHTNING THUNDERSTORM WINDS',\n",
       "       'URBAN FLOODING', 'MINOR FLOODING', 'WATERSPOUT-TORNADO',\n",
       "       'LIGHTNING INJURY', 'LIGHTNING AND THUNDERSTORM WIN',\n",
       "       'FLASH FLOODS', 'THUNDERSTORM WINDS53', 'WILDFIRE',\n",
       "       'THUNDERSTORM WINDS 13', 'HURRICANE', 'SNOW', 'LIGNTNING',\n",
       "       'FREEZING RAIN/SNOW', 'HIGH WINDS/', 'THUNDERSNOW', 'FLOODS',\n",
       "       'HEAVY RAIN/SNOW', 'MUD SLIDE', 'HIGH  WINDS', 'RURAL FLOOD',\n",
       "       'MUD SLIDES', 'EXTREME HEAT', 'SLEET/ICE STORM', 'GUSTNADO',\n",
       "       'FREEZING RAIN', 'SNOW AND HEAVY SNOW', 'GROUND BLIZZARD',\n",
       "       'EXTREME WIND CHILL', 'MAJOR FLOOD', 'SNOW/HEAVY SNOW',\n",
       "       'FREEZING RAIN/SLEET', 'ICE JAM FLOODING', 'FOG', 'WIND DAMAGE',\n",
       "       'TSTM WIND 55', 'THUNDERTORM WINDS', 'SNOW AND ICE', 'WIND STORM',\n",
       "       'GRASS FIRES', 'LAKE FLOOD', 'WIND/HAIL', 'ICE',\n",
       "       'SNOW AND ICE STORM', 'THUNDERSTORM  WINDS', 'WINTER WEATHER',\n",
       "       'THUNDERSTORMS WIND', 'TUNDERSTORM WIND',\n",
       "       'URBAN AND SMALL STREAM FLOODIN', 'THUNDERSTORM WIND/LIGHTNING',\n",
       "       'HEAVY RAIN/SEVERE WEATHER', 'THUNDERSTORM', 'WATERSPOUT/ TORNADO',\n",
       "       'LIGHTNING.', 'HURRICANE-GENERATED SWELLS',\n",
       "       'RIVER AND STREAM FLOOD', 'HIGH WINDS/COASTAL FLOOD', 'RAIN',\n",
       "       'RIVER FLOODING', 'ICE FLOES', 'THUNDERSTORM WIND G50',\n",
       "       'LIGHTNING FIRE', 'HEAVY LAKE SNOW', 'RECORD COLD',\n",
       "       'HEAVY SNOW/FREEZING RAIN', 'COLD WAVE', 'DUST DEVIL WATERSPOUT',\n",
       "       'TORNADO F3', 'TORNDAO', 'FLOOD/RIVER FLOOD',\n",
       "       'MUD SLIDES URBAN FLOODING', 'TORNADO F1', 'GLAZE/ICE STORM',\n",
       "       'GLAZE', 'HEAVY SNOW/WINTER STORM', 'MICROBURST', 'AVALANCE',\n",
       "       'BLIZZARD/WINTER STORM', 'ICE JAM', 'FROST\\\\FREEZE',\n",
       "       'THUNDERSTORM WINDS.', 'THUNDERSTORM WIND G55',\n",
       "       'HEAVY SNOW AND HIGH WINDS', 'HEAVY RAIN AND FLOOD',\n",
       "       'RIP CURRENTS/HEAVY SURF', 'URBAN AND SMALL', 'WILDFIRES',\n",
       "       'FOG AND COLD TEMPERATURES', 'SNOW/COLD',\n",
       "       'FLASH FLOOD FROM ICE JAMS', 'TSTM WIND G58', 'MUDSLIDE',\n",
       "       'HEAVY SNOW SQUALLS', 'SNOW SQUALL', 'SNOW/ICE STORM',\n",
       "       'HEAVY SNOW/SQUALLS', 'HEAVY SNOW-SQUALLS', 'ICY ROADS',\n",
       "       'HEAVY MIX', 'SNOW FREEZING RAIN', 'SNOW/SLEET',\n",
       "       'SNOW/FREEZING RAIN', 'SNOW SQUALLS', 'SNOW/SLEET/FREEZING RAIN',\n",
       "       'RECORD SNOW', 'HAIL 0.75', 'RECORD HEAT',\n",
       "       'THUNDERSTORM WIND 65MPH', 'THUNDERSTORM WIND/ TREES',\n",
       "       'THUNDERSTORM WIND/AWNING', 'THUNDERSTORM WIND 98 MPH',\n",
       "       'THUNDERSTORM WIND TREES', 'TORNADO F2', 'RIP CURRENTS',\n",
       "       'HURRICANE EMILY', 'COASTAL SURGE', 'HURRICANE GORDON',\n",
       "       'THUNDERSTORM WIND 60 MPH', 'THUNDERSTORM WINDS 63 MPH',\n",
       "       'THUNDERSTORM WIND/ TREE', 'THUNDERSTORM DAMAGE TO',\n",
       "       'THUNDERSTORM WIND 65 MPH', 'FLASH FLOOD - HEAVY RAIN',\n",
       "       'FLASH FLOOD/ STREET', 'BLOWING SNOW', 'HEAVY SNOW/BLIZZARD',\n",
       "       'THUNDERSTORM WINDSHAIL', 'LIGHTNING  WAUSEON', 'ICE AND SNOW',\n",
       "       'STORM FORCE WINDS', 'HEAVY SNOW/ICE', 'LIGHTING',\n",
       "       'HIGH WIND/HEAVY SNOW', 'THUNDERSTORM WINDS AND',\n",
       "       'HEAVY PRECIPITATION', 'HIGH WIND/BLIZZARD', 'TSTM WIND DAMAGE',\n",
       "       'FLOOD FLASH', 'RAIN/WIND', 'SNOW/ICE', 'HAIL 75',\n",
       "       'HEAVY SNOW/BLIZZARD/AVALANCHE', 'HEAT WAVES',\n",
       "       'UNSEASONABLY WARM AND DRY', 'UNSEASONABLY COLD',\n",
       "       'RECORD/EXCESSIVE HEAT', 'THUNDERSTORM WIND G52', 'HIGH WAVES',\n",
       "       'FLASH FLOOD/FLOOD', 'FLOOD/FLASH', 'LOW TEMPERATURE',\n",
       "       'THUNDERESTORM WINDS', 'THUNDERSTORM WINDS/FLOODING',\n",
       "       'HEAVY RAINS/FLOODING', 'HYPOTHERMIA', 'THUNDEERSTORM WINDS',\n",
       "       'THUNERSTORM WINDS', 'COLD/WINDS', 'SNOW/ BITTER COLD',\n",
       "       'COLD WEATHER', 'RAPIDLY RISING WATER', 'WILD/FOREST FIRE',\n",
       "       'ICE/STRONG WINDS', 'SNOW/HIGH WINDS', 'HIGH WINDS/SNOW',\n",
       "       'SNOWMELT FLOODING', 'HEAVY SNOW AND STRONG WINDS',\n",
       "       'SNOW ACCUMULATION', 'SNOW/ ICE', 'SNOW/BLOWING SNOW',\n",
       "       'THUNDERSTORM WIND/HAIL', 'FREEZING DRIZZLE', 'HAIL 175',\n",
       "       'SEVERE THUNDERSTORMS', 'HAIL 275', 'HAIL 450',\n",
       "       'EXCESSIVE RAINFALL', 'THUNDERSTORMW', 'HAILSTORM', 'TSTM WINDS',\n",
       "       'TSTMW', 'TSTM WIND 65)', 'THUNDERSTORM WINDS/ FLOOD', 'LANDSLIDE',\n",
       "       'HIGH WIND AND SEAS', 'THUNDERSTORMWINDS', 'DROUGHT/EXCESSIVE HEAT',\n",
       "       'HEAVY SEAS', 'HAIL DAMAGE', 'FLOOD & HEAVY RAIN', '?',\n",
       "       'THUNDERSTROM WIND', 'FLOOD/FLASHFLOOD', 'HIGH WATER',\n",
       "       'HIGH WIND 48', 'LANDSLIDES', 'URBAN/SMALL STREAM', 'BRUSH FIRE',\n",
       "       'HEAVY SHOWER', 'HEAVY SWELLS', 'URBAN SMALL', 'URBAN FLOODS',\n",
       "       'FLASH FLOOD/LANDSLIDE', 'HEAVY RAIN/SMALL STREAM URBAN',\n",
       "       'FLASH FLOOD LANDSLIDES', 'TSTM WIND/HAIL', 'OTHER',\n",
       "       'ICE JAM FLOOD (MINOR', 'URBAN/SML STREAM FLD', 'ROUGH SURF',\n",
       "       'MARINE ACCIDENT', 'COASTAL STORM', 'EROSION/CSTL FLOOD',\n",
       "       'DAMAGING FREEZE', 'BEACH EROSION', 'WINTRY MIX',\n",
       "       'TORRENTIAL RAINFALL', 'LANDSLUMP', 'HURRICANE EDOUARD',\n",
       "       'TIDAL FLOODING', 'EXTREME WINDCHILL', 'EXTENDED COLD', 'WHIRLWIND',\n",
       "       'HEAVY SNOW SHOWER', 'LIGHT SNOW', 'MIXED PRECIP', 'FREEZING SPRAY',\n",
       "       'DOWNBURST', 'LIGHT SNOWFALL', 'GUSTY WIND/RAIN',\n",
       "       'GUSTY WIND/HVY RAIN', 'COLD TEMPERATURE', 'COLD AND SNOW',\n",
       "       'RAIN/SNOW', 'TSTM WIND (G45)', 'GUSTY WIND', 'TSTM WIND 40',\n",
       "       'TSTM WIND 45', 'TSTM WIND (41)', 'TSTM WIND (G40)',\n",
       "       'HYPOTHERMIA/EXPOSURE', 'LAKE EFFECT SNOW', 'MIXED PRECIPITATION',\n",
       "       'BLACK ICE', 'COASTALSTORM', 'DAM BREAK', 'FROST', 'GRADIENT WIND',\n",
       "       'TSTM WIND AND LIGHTNING', 'WET MICROBURST', 'HEAVY SURF AND WIND',\n",
       "       'TYPHOON', 'HIGH SWELLS', 'COASTAL FLOODING/EROSION',\n",
       "       'TSTM WIND  (G45)', 'HIGH WIND (G40)', 'TSTM WIND (G35)',\n",
       "       'COASTAL EROSION', 'SEICHE', 'COASTAL  FLOODING/EROSION',\n",
       "       'HYPERTHERMIA/EXPOSURE', 'ROCK SLIDE', 'GUSTY WIND/HAIL',\n",
       "       'LANDSPOUT', 'EXCESSIVE SNOW', 'DROUGHT', 'FLOOD/FLASH/FLOOD',\n",
       "       'WIND AND WAVE', 'LIGHT FREEZING RAIN', 'ICE ROADS', 'SMALL HAIL',\n",
       "       'ROUGH SEAS', 'TSTM WIND G45', 'NON-SEVERE WIND DAMAGE',\n",
       "       'WARM WEATHER', 'THUNDERSTORM WIND (G40)', 'LATE SEASON SNOW',\n",
       "       'WINTER WEATHER MIX', 'ROGUE WAVE', 'FALLING SNOW/ICE',\n",
       "       'NON-TSTM WIND', 'NON TSTM WIND', 'BLOWING DUST', 'VOLCANIC ASH',\n",
       "       'HIGH SURF ADVISORY', 'HAZARDOUS SURF', 'ICE ON ROAD', 'DROWNING',\n",
       "       'EXTREME COLD/WIND CHILL', 'MARINE TSTM WIND', 'HURRICANE/TYPHOON',\n",
       "       'WINTER WEATHER/MIX', 'ASTRONOMICAL HIGH TIDE',\n",
       "       'HEAVY SURF/HIGH SURF', 'TROPICAL DEPRESSION', 'LAKE-EFFECT SNOW',\n",
       "       'MARINE HIGH WIND', 'TSUNAMI', 'STORM SURGE/TIDE',\n",
       "       'COLD/WIND CHILL', 'LAKESHORE FLOOD', 'MARINE THUNDERSTORM WIND',\n",
       "       'MARINE STRONG WIND', 'FROST/FREEZE', 'ASTRONOMICAL LOW TIDE',\n",
       "       'DENSE SMOKE', 'MARINE HAIL', 'FREEZING FOG'], dtype=object)"
      ]
     },
     "execution_count": 41,
     "metadata": {},
     "output_type": "execute_result"
    }
   ],
   "source": [
    "df.EVTYPE.map(lambda type: type.strip().upper()).unique()"
   ]
  },
  {
   "cell_type": "code",
   "execution_count": 45,
   "metadata": {
    "collapsed": false
   },
   "outputs": [
    {
     "data": {
      "text/plain": [
       "397"
      ]
     },
     "execution_count": 45,
     "metadata": {},
     "output_type": "execute_result"
    }
   ],
   "source": [
    "len(df.EVTYPE.map(lambda type: type.strip().upper()).unique())"
   ]
  },
  {
   "cell_type": "code",
   "execution_count": 46,
   "metadata": {
    "collapsed": false
   },
   "outputs": [
    {
     "data": {
      "text/plain": [
       "array(['?', 'APACHE COUNTY', 'ASTRONOMICAL HIGH TIDE',\n",
       "       'ASTRONOMICAL LOW TIDE', 'AVALANCE', 'AVALANCHE', 'BEACH EROSION',\n",
       "       'BLACK ICE', 'BLIZZARD', 'BLIZZARD/WINTER STORM', 'BLOWING DUST',\n",
       "       'BLOWING SNOW', 'BRUSH FIRE', 'COASTAL  FLOODING/EROSION',\n",
       "       'COASTAL EROSION', 'COASTAL FLOOD', 'COASTAL FLOODING',\n",
       "       'COASTAL FLOODING/EROSION', 'COASTAL STORM', 'COASTAL SURGE',\n",
       "       'COASTALSTORM', 'COLD', 'COLD AND SNOW', 'COLD TEMPERATURE',\n",
       "       'COLD WAVE', 'COLD WEATHER', 'COLD/WIND CHILL', 'COLD/WINDS',\n",
       "       'DAM BREAK', 'DAMAGING FREEZE', 'DENSE FOG', 'DENSE SMOKE',\n",
       "       'DOWNBURST', 'DROUGHT', 'DROUGHT/EXCESSIVE HEAT', 'DROWNING',\n",
       "       'DRY MICROBURST', 'DRY MIRCOBURST WINDS', 'DUST DEVIL',\n",
       "       'DUST DEVIL WATERSPOUT', 'DUST STORM', 'EROSION/CSTL FLOOD',\n",
       "       'EXCESSIVE HEAT', 'EXCESSIVE RAINFALL', 'EXCESSIVE SNOW',\n",
       "       'EXTENDED COLD', 'EXTREME COLD', 'EXTREME COLD/WIND CHILL',\n",
       "       'EXTREME HEAT', 'EXTREME WIND CHILL', 'EXTREME WINDCHILL',\n",
       "       'FALLING SNOW/ICE', 'FLASH FLOOD', 'FLASH FLOOD - HEAVY RAIN',\n",
       "       'FLASH FLOOD FROM ICE JAMS', 'FLASH FLOOD LANDSLIDES',\n",
       "       'FLASH FLOOD/', 'FLASH FLOOD/ STREET', 'FLASH FLOOD/FLOOD',\n",
       "       'FLASH FLOOD/LANDSLIDE', 'FLASH FLOODING',\n",
       "       'FLASH FLOODING/THUNDERSTORM WI', 'FLASH FLOODS', 'FLOOD',\n",
       "       'FLOOD & HEAVY RAIN', 'FLOOD FLASH', 'FLOOD/FLASH',\n",
       "       'FLOOD/FLASH FLOOD', 'FLOOD/FLASH/FLOOD', 'FLOOD/FLASHFLOOD',\n",
       "       'FLOOD/RIVER FLOOD', 'FLOODING', 'FLOODS', 'FOG',\n",
       "       'FOG AND COLD TEMPERATURES', 'FREEZE', 'FREEZING DRIZZLE',\n",
       "       'FREEZING FOG', 'FREEZING RAIN', 'FREEZING RAIN/SLEET',\n",
       "       'FREEZING RAIN/SNOW', 'FREEZING SPRAY', 'FROST', 'FROST/FREEZE',\n",
       "       'FROST\\\\FREEZE', 'FUNNEL CLOUD', 'GLAZE', 'GLAZE/ICE STORM',\n",
       "       'GRADIENT WIND', 'GRASS FIRES', 'GROUND BLIZZARD', 'GUSTNADO',\n",
       "       'GUSTY WIND', 'GUSTY WIND/HAIL', 'GUSTY WIND/HVY RAIN',\n",
       "       'GUSTY WIND/RAIN', 'GUSTY WINDS', 'HAIL', 'HAIL 0.75', 'HAIL 175',\n",
       "       'HAIL 275', 'HAIL 450', 'HAIL 75', 'HAIL DAMAGE', 'HAILSTORM',\n",
       "       'HAZARDOUS SURF', 'HEAT', 'HEAT WAVE', 'HEAT WAVES',\n",
       "       'HEAVY LAKE SNOW', 'HEAVY MIX', 'HEAVY PRECIPITATION', 'HEAVY RAIN',\n",
       "       'HEAVY RAIN AND FLOOD', 'HEAVY RAIN/LIGHTNING',\n",
       "       'HEAVY RAIN/SEVERE WEATHER', 'HEAVY RAIN/SMALL STREAM URBAN',\n",
       "       'HEAVY RAIN/SNOW', 'HEAVY RAINS', 'HEAVY RAINS/FLOODING',\n",
       "       'HEAVY SEAS', 'HEAVY SHOWER', 'HEAVY SNOW',\n",
       "       'HEAVY SNOW AND HIGH WINDS', 'HEAVY SNOW AND STRONG WINDS',\n",
       "       'HEAVY SNOW SHOWER', 'HEAVY SNOW SQUALLS', 'HEAVY SNOW-SQUALLS',\n",
       "       'HEAVY SNOW/BLIZZARD', 'HEAVY SNOW/BLIZZARD/AVALANCHE',\n",
       "       'HEAVY SNOW/FREEZING RAIN', 'HEAVY SNOW/ICE', 'HEAVY SNOW/SQUALLS',\n",
       "       'HEAVY SNOW/WIND', 'HEAVY SNOW/WINTER STORM', 'HEAVY SNOWPACK',\n",
       "       'HEAVY SURF', 'HEAVY SURF AND WIND', 'HEAVY SURF COASTAL FLOODING',\n",
       "       'HEAVY SURF/HIGH SURF', 'HEAVY SWELLS', 'HIGH', 'HIGH  WINDS',\n",
       "       'HIGH SEAS', 'HIGH SURF', 'HIGH SURF ADVISORY', 'HIGH SWELLS',\n",
       "       'HIGH TIDES', 'HIGH WATER', 'HIGH WAVES', 'HIGH WIND',\n",
       "       'HIGH WIND (G40)', 'HIGH WIND 48', 'HIGH WIND AND SEAS',\n",
       "       'HIGH WIND DAMAGE', 'HIGH WIND/BLIZZARD', 'HIGH WIND/HEAVY SNOW',\n",
       "       'HIGH WIND/SEAS', 'HIGH WINDS', 'HIGH WINDS/',\n",
       "       'HIGH WINDS/COASTAL FLOOD', 'HIGH WINDS/HEAVY RAIN',\n",
       "       'HIGH WINDS/SNOW', 'HURRICANE', 'HURRICANE EDOUARD',\n",
       "       'HURRICANE EMILY', 'HURRICANE ERIN', 'HURRICANE GORDON',\n",
       "       'HURRICANE OPAL', 'HURRICANE-GENERATED SWELLS', 'HURRICANE/TYPHOON',\n",
       "       'HYPERTHERMIA/EXPOSURE', 'HYPOTHERMIA', 'HYPOTHERMIA/EXPOSURE',\n",
       "       'ICE', 'ICE AND SNOW', 'ICE FLOES', 'ICE JAM',\n",
       "       'ICE JAM FLOOD (MINOR', 'ICE JAM FLOODING', 'ICE ON ROAD',\n",
       "       'ICE ROADS', 'ICE STORM', 'ICE STORM/FLASH FLOOD',\n",
       "       'ICE/STRONG WINDS', 'ICY ROADS', 'LAKE EFFECT SNOW', 'LAKE FLOOD',\n",
       "       'LAKE-EFFECT SNOW', 'LAKESHORE FLOOD', 'LANDSLIDE', 'LANDSLIDES',\n",
       "       'LANDSLUMP', 'LANDSPOUT', 'LATE SEASON SNOW', 'LIGHT FREEZING RAIN',\n",
       "       'LIGHT SNOW', 'LIGHT SNOWFALL', 'LIGHTING', 'LIGHTNING',\n",
       "       'LIGHTNING  WAUSEON', 'LIGHTNING AND HEAVY RAIN',\n",
       "       'LIGHTNING AND THUNDERSTORM WIN', 'LIGHTNING FIRE',\n",
       "       'LIGHTNING INJURY', 'LIGHTNING THUNDERSTORM WINDS', 'LIGHTNING.',\n",
       "       'LIGHTNING/HEAVY RAIN', 'LIGNTNING', 'LOW TEMPERATURE',\n",
       "       'MAJOR FLOOD', 'MARINE ACCIDENT', 'MARINE HAIL', 'MARINE HIGH WIND',\n",
       "       'MARINE MISHAP', 'MARINE STRONG WIND', 'MARINE THUNDERSTORM WIND',\n",
       "       'MARINE TSTM WIND', 'MICROBURST', 'MICROBURST WINDS',\n",
       "       'MINOR FLOODING', 'MIXED PRECIP', 'MIXED PRECIPITATION',\n",
       "       'MUD SLIDE', 'MUD SLIDES', 'MUD SLIDES URBAN FLOODING', 'MUDSLIDE',\n",
       "       'MUDSLIDES', 'NON TSTM WIND', 'NON-SEVERE WIND DAMAGE',\n",
       "       'NON-TSTM WIND', 'OTHER', 'RAIN', 'RAIN/SNOW', 'RAIN/WIND',\n",
       "       'RAINSTORM', 'RAPIDLY RISING WATER', 'RECORD COLD', 'RECORD HEAT',\n",
       "       'RECORD RAINFALL', 'RECORD SNOW', 'RECORD/EXCESSIVE HEAT',\n",
       "       'RIP CURRENT', 'RIP CURRENTS', 'RIP CURRENTS/HEAVY SURF',\n",
       "       'RIVER AND STREAM FLOOD', 'RIVER FLOOD', 'RIVER FLOODING',\n",
       "       'ROCK SLIDE', 'ROGUE WAVE', 'ROUGH SEAS', 'ROUGH SURF',\n",
       "       'RURAL FLOOD', 'SEICHE', 'SEVERE THUNDERSTORM',\n",
       "       'SEVERE THUNDERSTORM WINDS', 'SEVERE THUNDERSTORMS',\n",
       "       'SEVERE TURBULENCE', 'SLEET', 'SLEET/ICE STORM', 'SMALL HAIL',\n",
       "       'SNOW', 'SNOW ACCUMULATION', 'SNOW AND HEAVY SNOW', 'SNOW AND ICE',\n",
       "       'SNOW AND ICE STORM', 'SNOW FREEZING RAIN', 'SNOW SQUALL',\n",
       "       'SNOW SQUALLS', 'SNOW/ BITTER COLD', 'SNOW/ ICE',\n",
       "       'SNOW/BLOWING SNOW', 'SNOW/COLD', 'SNOW/FREEZING RAIN',\n",
       "       'SNOW/HEAVY SNOW', 'SNOW/HIGH WINDS', 'SNOW/ICE', 'SNOW/ICE STORM',\n",
       "       'SNOW/SLEET', 'SNOW/SLEET/FREEZING RAIN', 'SNOWMELT FLOODING',\n",
       "       'STORM FORCE WINDS', 'STORM SURGE', 'STORM SURGE/TIDE',\n",
       "       'STRONG WIND', 'STRONG WINDS', 'THUNDEERSTORM WINDS',\n",
       "       'THUNDERESTORM WINDS', 'THUNDERSNOW', 'THUNDERSTORM',\n",
       "       'THUNDERSTORM  WINDS', 'THUNDERSTORM DAMAGE TO',\n",
       "       'THUNDERSTORM WIND', 'THUNDERSTORM WIND (G40)',\n",
       "       'THUNDERSTORM WIND 60 MPH', 'THUNDERSTORM WIND 65 MPH',\n",
       "       'THUNDERSTORM WIND 65MPH', 'THUNDERSTORM WIND 98 MPH',\n",
       "       'THUNDERSTORM WIND G50', 'THUNDERSTORM WIND G52',\n",
       "       'THUNDERSTORM WIND G55', 'THUNDERSTORM WIND TREES',\n",
       "       'THUNDERSTORM WIND/ TREE', 'THUNDERSTORM WIND/ TREES',\n",
       "       'THUNDERSTORM WIND/AWNING', 'THUNDERSTORM WIND/HAIL',\n",
       "       'THUNDERSTORM WIND/LIGHTNING', 'THUNDERSTORM WINDS',\n",
       "       'THUNDERSTORM WINDS 13', 'THUNDERSTORM WINDS 63 MPH',\n",
       "       'THUNDERSTORM WINDS AND', 'THUNDERSTORM WINDS HAIL',\n",
       "       'THUNDERSTORM WINDS LIGHTNING', 'THUNDERSTORM WINDS.',\n",
       "       'THUNDERSTORM WINDS/ FLOOD', 'THUNDERSTORM WINDS/FLOODING',\n",
       "       'THUNDERSTORM WINDS/FUNNEL CLOU', 'THUNDERSTORM WINDS/HAIL',\n",
       "       'THUNDERSTORM WINDS53', 'THUNDERSTORM WINDSHAIL',\n",
       "       'THUNDERSTORM WINDSS', 'THUNDERSTORM WINS', 'THUNDERSTORMS WIND',\n",
       "       'THUNDERSTORMS WINDS', 'THUNDERSTORMW', 'THUNDERSTORMWINDS',\n",
       "       'THUNDERSTROM WIND', 'THUNDERTORM WINDS', 'THUNERSTORM WINDS',\n",
       "       'TIDAL FLOODING', 'TORNADO', 'TORNADO F0', 'TORNADO F1',\n",
       "       'TORNADO F2', 'TORNADO F3', 'TORNDAO', 'TORRENTIAL RAINFALL',\n",
       "       'TROPICAL DEPRESSION', 'TROPICAL STORM', 'TROPICAL STORM ALBERTO',\n",
       "       'TSTM WIND', 'TSTM WIND  (G45)', 'TSTM WIND (41)',\n",
       "       'TSTM WIND (G35)', 'TSTM WIND (G40)', 'TSTM WIND (G45)',\n",
       "       'TSTM WIND 40', 'TSTM WIND 45', 'TSTM WIND 55', 'TSTM WIND 65)',\n",
       "       'TSTM WIND AND LIGHTNING', 'TSTM WIND DAMAGE', 'TSTM WIND G45',\n",
       "       'TSTM WIND G58', 'TSTM WIND/HAIL', 'TSTM WINDS', 'TSTMW', 'TSUNAMI',\n",
       "       'TUNDERSTORM WIND', 'TYPHOON', 'UNSEASONABLY COLD',\n",
       "       'UNSEASONABLY WARM', 'UNSEASONABLY WARM AND DRY', 'URBAN AND SMALL',\n",
       "       'URBAN AND SMALL STREAM FLOODIN', 'URBAN FLOOD', 'URBAN FLOODING',\n",
       "       'URBAN FLOODS', 'URBAN SMALL', 'URBAN/SMALL STREAM',\n",
       "       'URBAN/SMALL STREAM FLOOD', 'URBAN/SML STREAM FLD', 'VOLCANIC ASH',\n",
       "       'WARM WEATHER', 'WATERSPOUT', 'WATERSPOUT TORNADO', 'WATERSPOUT-',\n",
       "       'WATERSPOUT-TORNADO', 'WATERSPOUT/ TORNADO', 'WATERSPOUT/TORNADO',\n",
       "       'WET MICROBURST', 'WHIRLWIND', 'WILD FIRES', 'WILD/FOREST FIRE',\n",
       "       'WILDFIRE', 'WILDFIRES', 'WIND', 'WIND AND WAVE', 'WIND DAMAGE',\n",
       "       'WIND STORM', 'WIND/HAIL', 'WINDS', 'WINTER STORM',\n",
       "       'WINTER WEATHER', 'WINTER WEATHER MIX', 'WINTER WEATHER/MIX',\n",
       "       'WINTRY MIX'], dtype=object)"
      ]
     },
     "execution_count": 46,
     "metadata": {},
     "output_type": "execute_result"
    }
   ],
   "source": [
    "np.sort(df.EVTYPE.map(lambda type: type.strip().upper()).unique())"
   ]
  },
  {
   "cell_type": "markdown",
   "metadata": {},
   "source": [
    "### Official Event Type"
   ]
  },
  {
   "cell_type": "code",
   "execution_count": 47,
   "metadata": {
    "collapsed": true
   },
   "outputs": [],
   "source": [
    "official_event_types = [\n",
    "    'Astronomical Low Tide', 'Avalanche',\n",
    "    'Blizzard', 'Coastal Flood', 'Cold/Wind Chill', 'Debris Flow',\n",
    "    'Dense Fog', 'Dense Smoke', 'Drought', 'Dust Devil', 'Dust Storm',\n",
    "    'Excessive Heat', 'Extreme Cold/Wind Chill', 'Flash Flood', 'Flood',\n",
    "    'Frost/Freeze', 'Funnel Cloud', 'Freezing Fog', 'Hail', 'Heat',\n",
    "    'Heavy Rain', 'Heavy Snow', 'High Surf', 'High Wind',\n",
    "    'Hurricane (Typhoon)', 'Ice Storm', 'Lake-Effect Snow',\n",
    "    'Lakeshore Flood', 'Lightning', 'Marine Hail', 'Marine High Wind',\n",
    "    'Marine Strong Wind', 'Marine Thunderstorm Wind', 'Rip Current',\n",
    "    'Seiche', 'Sleet', 'Storm Surge/Tide', 'Strong Wind',\n",
    "    'Thunderstorm Wind', 'Tornado', 'Tropical Depression',\n",
    "    'Tropical Storm', 'Tsunami', 'Volcanic Ash', 'Waterspout', 'Wildfire',\n",
    "    'Winter Storm', 'Winter Weather',\n",
    "\n",
    "    # We are also adding 'OTHER'...\n",
    "    'OTHER'\n",
    "]\n",
    "\n",
    "official_event_types = map(lambda type: type.strip().upper(), official_event_types) "
   ]
  },
  {
   "cell_type": "code",
   "execution_count": 48,
   "metadata": {
    "collapsed": false
   },
   "outputs": [
    {
     "data": {
      "text/plain": [
       "['ASTRONOMICAL LOW TIDE',\n",
       " 'AVALANCHE',\n",
       " 'BLIZZARD',\n",
       " 'COASTAL FLOOD',\n",
       " 'COLD/WIND CHILL',\n",
       " 'DEBRIS FLOW',\n",
       " 'DENSE FOG',\n",
       " 'DENSE SMOKE',\n",
       " 'DROUGHT',\n",
       " 'DUST DEVIL',\n",
       " 'DUST STORM',\n",
       " 'EXCESSIVE HEAT',\n",
       " 'EXTREME COLD/WIND CHILL',\n",
       " 'FLASH FLOOD',\n",
       " 'FLOOD',\n",
       " 'FROST/FREEZE',\n",
       " 'FUNNEL CLOUD',\n",
       " 'FREEZING FOG',\n",
       " 'HAIL',\n",
       " 'HEAT',\n",
       " 'HEAVY RAIN',\n",
       " 'HEAVY SNOW',\n",
       " 'HIGH SURF',\n",
       " 'HIGH WIND',\n",
       " 'HURRICANE (TYPHOON)',\n",
       " 'ICE STORM',\n",
       " 'LAKE-EFFECT SNOW',\n",
       " 'LAKESHORE FLOOD',\n",
       " 'LIGHTNING',\n",
       " 'MARINE HAIL',\n",
       " 'MARINE HIGH WIND',\n",
       " 'MARINE STRONG WIND',\n",
       " 'MARINE THUNDERSTORM WIND',\n",
       " 'RIP CURRENT',\n",
       " 'SEICHE',\n",
       " 'SLEET',\n",
       " 'STORM SURGE/TIDE',\n",
       " 'STRONG WIND',\n",
       " 'THUNDERSTORM WIND',\n",
       " 'TORNADO',\n",
       " 'TROPICAL DEPRESSION',\n",
       " 'TROPICAL STORM',\n",
       " 'TSUNAMI',\n",
       " 'VOLCANIC ASH',\n",
       " 'WATERSPOUT',\n",
       " 'WILDFIRE',\n",
       " 'WINTER STORM',\n",
       " 'WINTER WEATHER',\n",
       " 'OTHER']"
      ]
     },
     "execution_count": 48,
     "metadata": {},
     "output_type": "execute_result"
    }
   ],
   "source": [
    "official_event_types"
   ]
  },
  {
   "cell_type": "code",
   "execution_count": 51,
   "metadata": {
    "collapsed": true
   },
   "outputs": [],
   "source": [
    "subset_df = df[df.EVTYPE.isin(official_event_types)]"
   ]
  },
  {
   "cell_type": "code",
   "execution_count": 54,
   "metadata": {
    "collapsed": false
   },
   "outputs": [
    {
     "data": {
      "text/plain": [
       "(155293, 34)"
      ]
     },
     "execution_count": 54,
     "metadata": {},
     "output_type": "execute_result"
    }
   ],
   "source": [
    "subset_df.shape"
   ]
  },
  {
   "cell_type": "code",
   "execution_count": 69,
   "metadata": {
    "collapsed": true
   },
   "outputs": [],
   "source": [
    "def debug(subset_df):\n",
    "    print 'Using official event types: {:.2f}'.format(1. * len(subset_df)/len(df))\n",
    "    print ' -Fatalities: {:.2f}'.format(subset_df.Fatalities.sum()/fatalities)\n",
    "    print ' -Injuries: {:.2f}'.format(subset_df.Injuries.sum()/injuries)\n",
    "    print ' -Property Damages: {:.2f}'.format(subset_df.PropertyDamage.sum()/property_damage)\n",
    "    print ' -Crop Damages: {:.2f}'.format(subset_df.CropDamage.sum()/crop_damage)"
   ]
  },
  {
   "cell_type": "code",
   "execution_count": 70,
   "metadata": {
    "collapsed": false
   },
   "outputs": [
    {
     "name": "stdout",
     "output_type": "stream",
     "text": [
      "Using official event types: 0.67\n",
      " -Fatalities: 0.82\n",
      " -Injuries: 0.81\n",
      " -Property Damages: 0.33\n",
      " -Crop Damages: 0.00\n"
     ]
    }
   ],
   "source": [
    "debug(subset_df)"
   ]
  },
  {
   "cell_type": "markdown",
   "metadata": {},
   "source": [
    "### Unofficial event types"
   ]
  },
  {
   "cell_type": "code",
   "execution_count": 72,
   "metadata": {
    "collapsed": false
   },
   "outputs": [],
   "source": [
    "todo_df = df[~(df.index.isin(subset_df.index)) & (df.Fatalities > 0)]"
   ]
  },
  {
   "cell_type": "code",
   "execution_count": 73,
   "metadata": {
    "collapsed": false
   },
   "outputs": [
    {
     "data": {
      "text/plain": [
       "(1207, 34)"
      ]
     },
     "execution_count": 73,
     "metadata": {},
     "output_type": "execute_result"
    }
   ],
   "source": [
    "todo_df.shape"
   ]
  },
  {
   "cell_type": "code",
   "execution_count": 77,
   "metadata": {
    "collapsed": false
   },
   "outputs": [
    {
     "data": {
      "text/html": [
       "<div>\n",
       "<table border=\"1\" class=\"dataframe\">\n",
       "  <thead>\n",
       "    <tr style=\"text-align: right;\">\n",
       "      <th></th>\n",
       "      <th>Fatalities</th>\n",
       "    </tr>\n",
       "    <tr>\n",
       "      <th>EVTYPE</th>\n",
       "      <th></th>\n",
       "    </tr>\n",
       "  </thead>\n",
       "  <tbody>\n",
       "    <tr>\n",
       "      <th>TSTM WIND</th>\n",
       "      <td>500</td>\n",
       "    </tr>\n",
       "    <tr>\n",
       "      <th>RIP CURRENTS</th>\n",
       "      <td>204</td>\n",
       "    </tr>\n",
       "    <tr>\n",
       "      <th>HEAT WAVE</th>\n",
       "      <td>168</td>\n",
       "    </tr>\n",
       "    <tr>\n",
       "      <th>EXTREME COLD</th>\n",
       "      <td>159</td>\n",
       "    </tr>\n",
       "    <tr>\n",
       "      <th>EXTREME HEAT</th>\n",
       "      <td>96</td>\n",
       "    </tr>\n",
       "    <tr>\n",
       "      <th>...</th>\n",
       "      <td>...</td>\n",
       "    </tr>\n",
       "    <tr>\n",
       "      <th>Marine Accident</th>\n",
       "      <td>1</td>\n",
       "    </tr>\n",
       "    <tr>\n",
       "      <th>Mudslides</th>\n",
       "      <td>1</td>\n",
       "    </tr>\n",
       "    <tr>\n",
       "      <th>RAIN/WIND</th>\n",
       "      <td>1</td>\n",
       "    </tr>\n",
       "    <tr>\n",
       "      <th>RAPIDLY RISING WATER</th>\n",
       "      <td>1</td>\n",
       "    </tr>\n",
       "    <tr>\n",
       "      <th>blowing snow</th>\n",
       "      <td>1</td>\n",
       "    </tr>\n",
       "  </tbody>\n",
       "</table>\n",
       "<p>123 rows × 1 columns</p>\n",
       "</div>"
      ],
      "text/plain": [
       "                      Fatalities\n",
       "EVTYPE                          \n",
       "TSTM WIND                    500\n",
       "RIP CURRENTS                 204\n",
       "HEAT WAVE                    168\n",
       "EXTREME COLD                 159\n",
       "EXTREME HEAT                  96\n",
       "...                          ...\n",
       "Marine Accident                1\n",
       "Mudslides                      1\n",
       "RAIN/WIND                      1\n",
       "RAPIDLY RISING WATER           1\n",
       "blowing snow                   1\n",
       "\n",
       "[123 rows x 1 columns]"
      ]
     },
     "execution_count": 77,
     "metadata": {},
     "output_type": "execute_result"
    }
   ],
   "source": [
    "todo_df[['EVTYPE','Fatalities']].groupby('EVTYPE').sum().sort_values(by = ['Fatalities'],ascending=[0])"
   ]
  },
  {
   "cell_type": "code",
   "execution_count": 79,
   "metadata": {
    "collapsed": true
   },
   "outputs": [],
   "source": [
    "unrecognized_event_types_to_recognized_event_types = {\n",
    "    'COLD': 'COLD/WIND CHILL', 'COLD AND SNOW': 'COLD/WIND CHILL',\n",
    "    'COLD WEATHER': 'COLD/WIND CHILL',\n",
    "    'EXTREME COLD': 'EXTREME COLD/WIND CHILL',\n",
    "    'EXTREME HEAT': 'EXCESSIVE HEAT',\n",
    "    'EXTREME WINDCHILL': 'EXTREME COLD/WIND CHILL',\n",
    "    'FLASH FLOOD/FLOOD': 'FLASH FLOOD',\n",
    "    'FLASH FLOODING': 'FLASH FLOOD',\n",
    "    'FLASH FLOODING/FLOOD': 'FLASH FLOOD',\n",
    "    'FLOOD/FLASH FLOOD': 'FLASH FLOOD',\n",
    "    'FLOODING': 'FLOOD',\n",
    "    'FOG': 'DENSE FOG',\n",
    "    'FREEZE': 'FROST/FREEZE',\n",
    "    'FREEZING RAIN': 'HEAVY RAIN',\n",
    "    'GLAZE': 'OTHER',\n",
    "    'HEAT WAVE': 'HEAT',\n",
    "    'HEAT WAVES': 'HEAT',\n",
    "    'HEAVY RAIN/SEVERE WEATHER': 'HEAVY RAIN',\n",
    "    'HEAVY SURF': 'HIGH SURF',\n",
    "    'HEAVY SURF/HIGH SURF': 'HIGH SURF',\n",
    "    'HIGH SEAS': 'OTHER',\n",
    "    'HIGH WINDS': 'HIGH WIND',\n",
    "    'HURRICANE': 'HURRICANE (TYPHOON)',\n",
    "    'HURRICANE ERIN': 'HURRICANE (TYPHOON)',\n",
    "    'HURRICANE OPAL': 'HURRICANE (TYPHOON)',\n",
    "    'HURRICANE/TYPHOON': 'HURRICANE (TYPHOON)',\n",
    "    'HYPOTHERMIA/EXPOSURE': 'OTHER',\n",
    "    'ICE': 'ICE STORM',\n",
    "    'ICY ROADS': 'OTHER',\n",
    "    'LANDSLIDE': 'OTHER',\n",
    "    'LOW TEMPERATURE': 'COLD/WIND CHILL',\n",
    "    'MARINE MISHAP': 'MARINE HAIL',\n",
    "    'MARINE TSTM WIND': 'MARINE THUNDERSTORM WIND RIP CURRENT',\n",
    "    'RECORD/EXCESSIVE HEAT': 'EXCESSIVE HEAT',\n",
    "    'RIP CURRENTS': 'MARINE THUNDERSTORM WIND RIP CURRENT',\n",
    "    'RIVER FLOOD': 'FLOOD',\n",
    "    'ROUGH SEAS': 'MARINE STRONG WIND',\n",
    "    'SEVERE THUNDERSTORM': 'THUNDERSTORM WIND',\n",
    "    'STORM SURGE': 'STORM SURGE/TIDE',\n",
    "    'STRONG WINDS': 'STRONG WIND',\n",
    "    'THUNDERSTORM WINDS': 'THUNDERSTORM WIND',\n",
    "    'TORNADOES, TSTM WIND, HAIL': 'TORNADO',\n",
    "    'TROPICAL STORM GORDON': 'TROPICAL STORM',\n",
    "    'TSTM WIND': 'THUNDERSTORM WIND',\n",
    "    'TSTM WIND/HAIL': 'THUNDERSTORM WIND',\n",
    "    'TYPHOON': 'HURRICANE (TYPHOON)',\n",
    "    'UNSEASONABLY WARM': 'OTHER',\n",
    "    'UNSEASONABLY WARM AND DRY': 'OTHER',\n",
    "    'URBAN/SML STREAM FLD': 'FLOOD',\n",
    "    'WILD FIRES': 'WILDFIRE',\n",
    "    'WILD/FOREST FIRE': 'WILDFIRE',\n",
    "    'WIND': 'HIGH WIND',\n",
    "    'WINTER STORMS': 'WINTER STORM',\n",
    "    'WINTER WEATHER/MIX': 'WINTER WEATHER'\n",
    "}"
   ]
  },
  {
   "cell_type": "code",
   "execution_count": 85,
   "metadata": {
    "collapsed": true
   },
   "outputs": [],
   "source": [
    "def event_type(event_type):\n",
    "    if event_type in official_event_types:\n",
    "        return event_type\n",
    "\n",
    "    if event_type in unrecognized_event_types_to_recognized_event_types:\n",
    "        return unrecognized_event_types_to_recognized_event_types[event_type]\n",
    "    return event_type"
   ]
  },
  {
   "cell_type": "code",
   "execution_count": 86,
   "metadata": {
    "collapsed": false
   },
   "outputs": [],
   "source": [
    "df['EVTYPE'] = df.EVTYPE.map(event_type)"
   ]
  },
  {
   "cell_type": "code",
   "execution_count": 87,
   "metadata": {
    "collapsed": false
   },
   "outputs": [
    {
     "name": "stdout",
     "output_type": "stream",
     "text": [
      "Using official event types: 0.99\n",
      " -Fatalities: 0.92\n",
      " -Injuries: 0.89\n",
      " -Property Damages: 0.58\n",
      " -Crop Damages: 0.00\n"
     ]
    }
   ],
   "source": [
    "debug(df[df.EVTYPE.isin(official_event_types)])"
   ]
  },
  {
   "cell_type": "code",
   "execution_count": 88,
   "metadata": {
    "collapsed": true
   },
   "outputs": [],
   "source": [
    "df = df[df.EVTYPE.isin(official_event_types)]"
   ]
  },
  {
   "cell_type": "code",
   "execution_count": 89,
   "metadata": {
    "collapsed": false
   },
   "outputs": [
    {
     "data": {
      "text/plain": [
       "(230076, 34)"
      ]
     },
     "execution_count": 89,
     "metadata": {},
     "output_type": "execute_result"
    }
   ],
   "source": [
    "df.shape"
   ]
  },
  {
   "cell_type": "markdown",
   "metadata": {},
   "source": [
    "### Fatalities"
   ]
  },
  {
   "cell_type": "code",
   "execution_count": 90,
   "metadata": {
    "collapsed": true
   },
   "outputs": [],
   "source": [
    "sum_df = df[['EVTYPE','Fatalities','Injuries','PropertyDamage','CropDamage']].groupby(['EVTYPE']).sum()"
   ]
  },
  {
   "cell_type": "code",
   "execution_count": 91,
   "metadata": {
    "collapsed": false
   },
   "outputs": [
    {
     "data": {
      "text/html": [
       "<div>\n",
       "<table border=\"1\" class=\"dataframe\">\n",
       "  <thead>\n",
       "    <tr style=\"text-align: right;\">\n",
       "      <th></th>\n",
       "      <th>Fatalities</th>\n",
       "      <th>Injuries</th>\n",
       "      <th>PropertyDamage</th>\n",
       "      <th>CropDamage</th>\n",
       "    </tr>\n",
       "    <tr>\n",
       "      <th>EVTYPE</th>\n",
       "      <th></th>\n",
       "      <th></th>\n",
       "      <th></th>\n",
       "      <th></th>\n",
       "    </tr>\n",
       "  </thead>\n",
       "  <tbody>\n",
       "    <tr>\n",
       "      <th>ASTRONOMICAL LOW TIDE</th>\n",
       "      <td>0</td>\n",
       "      <td>0</td>\n",
       "      <td>320000</td>\n",
       "      <td>0</td>\n",
       "    </tr>\n",
       "    <tr>\n",
       "      <th>AVALANCHE</th>\n",
       "      <td>224</td>\n",
       "      <td>170</td>\n",
       "      <td>3721800</td>\n",
       "      <td>0</td>\n",
       "    </tr>\n",
       "    <tr>\n",
       "      <th>BLIZZARD</th>\n",
       "      <td>86</td>\n",
       "      <td>400</td>\n",
       "      <td>602013950</td>\n",
       "      <td>0</td>\n",
       "    </tr>\n",
       "    <tr>\n",
       "      <th>COASTAL FLOOD</th>\n",
       "      <td>3</td>\n",
       "      <td>2</td>\n",
       "      <td>237665560</td>\n",
       "      <td>0</td>\n",
       "    </tr>\n",
       "    <tr>\n",
       "      <th>COLD/WIND CHILL</th>\n",
       "      <td>156</td>\n",
       "      <td>60</td>\n",
       "      <td>2490000</td>\n",
       "      <td>0</td>\n",
       "    </tr>\n",
       "    <tr>\n",
       "      <th>...</th>\n",
       "      <td>...</td>\n",
       "      <td>...</td>\n",
       "      <td>...</td>\n",
       "      <td>...</td>\n",
       "    </tr>\n",
       "    <tr>\n",
       "      <th>VOLCANIC ASH</th>\n",
       "      <td>0</td>\n",
       "      <td>0</td>\n",
       "      <td>500000</td>\n",
       "      <td>NaN</td>\n",
       "    </tr>\n",
       "    <tr>\n",
       "      <th>WATERSPOUT</th>\n",
       "      <td>3</td>\n",
       "      <td>29</td>\n",
       "      <td>9353700</td>\n",
       "      <td>0</td>\n",
       "    </tr>\n",
       "    <tr>\n",
       "      <th>WILDFIRE</th>\n",
       "      <td>58</td>\n",
       "      <td>1427</td>\n",
       "      <td>6917019500</td>\n",
       "      <td>0</td>\n",
       "    </tr>\n",
       "    <tr>\n",
       "      <th>WINTER STORM</th>\n",
       "      <td>198</td>\n",
       "      <td>1252</td>\n",
       "      <td>6645741651</td>\n",
       "      <td>0</td>\n",
       "    </tr>\n",
       "    <tr>\n",
       "      <th>WINTER WEATHER</th>\n",
       "      <td>61</td>\n",
       "      <td>470</td>\n",
       "      <td>27238000</td>\n",
       "      <td>0</td>\n",
       "    </tr>\n",
       "  </tbody>\n",
       "</table>\n",
       "<p>48 rows × 4 columns</p>\n",
       "</div>"
      ],
      "text/plain": [
       "                       Fatalities  Injuries  PropertyDamage  CropDamage\n",
       "EVTYPE                                                                 \n",
       "ASTRONOMICAL LOW TIDE           0         0          320000           0\n",
       "AVALANCHE                     224       170         3721800           0\n",
       "BLIZZARD                       86       400       602013950           0\n",
       "COASTAL FLOOD                   3         2       237665560           0\n",
       "COLD/WIND CHILL               156        60         2490000           0\n",
       "...                           ...       ...             ...         ...\n",
       "VOLCANIC ASH                    0         0          500000         NaN\n",
       "WATERSPOUT                      3        29         9353700           0\n",
       "WILDFIRE                       58      1427      6917019500           0\n",
       "WINTER STORM                  198      1252      6645741651           0\n",
       "WINTER WEATHER                 61       470        27238000           0\n",
       "\n",
       "[48 rows x 4 columns]"
      ]
     },
     "execution_count": 91,
     "metadata": {},
     "output_type": "execute_result"
    }
   ],
   "source": [
    "sum_df"
   ]
  },
  {
   "cell_type": "code",
   "execution_count": 93,
   "metadata": {
    "collapsed": true
   },
   "outputs": [],
   "source": [
    "sum_df.PropertyDamage = sum_df.PropertyDamage/10**9\n",
    "sum_df.CropDamage = sum_df.CropDamage/10**9"
   ]
  },
  {
   "cell_type": "code",
   "execution_count": 100,
   "metadata": {
    "collapsed": false
   },
   "outputs": [
    {
     "data": {
      "text/plain": [
       "EVTYPE\n",
       "TORNADO                  5404\n",
       "EXCESSIVE HEAT           1970\n",
       "HEAT                     1071\n",
       "FLASH FLOOD               929\n",
       "LIGHTNING                 816\n",
       "                         ... \n",
       "SEICHE                      0\n",
       "FREEZING FOG                0\n",
       "FROST/FREEZE                0\n",
       "FUNNEL CLOUD                0\n",
       "ASTRONOMICAL LOW TIDE       0\n",
       "Name: Fatalities, dtype: float64"
      ]
     },
     "execution_count": 100,
     "metadata": {},
     "output_type": "execute_result"
    }
   ],
   "source": [
    "fatalities_df = sum_df.Fatalities.sort_values(ascending=False)\n",
    "fatalities_df"
   ]
  },
  {
   "cell_type": "code",
   "execution_count": 107,
   "metadata": {
    "collapsed": false
   },
   "outputs": [
    {
     "data": {
      "text/plain": [
       "<matplotlib.axes._subplots.AxesSubplot at 0x119378510>"
      ]
     },
     "execution_count": 107,
     "metadata": {},
     "output_type": "execute_result"
    },
    {
     "data": {
      "image/png": "[encoded data removed]",
      "text/plain": [
       "<matplotlib.figure.Figure at 0x119378050>"
      ]
     },
     "metadata": {},
     "output_type": "display_data"
    }
   ],
   "source": [
    "fig = plt.figure(figsize=(15,5))\n",
    "fatalities_df.plot(kind='bar')"
   ]
  },
  {
   "cell_type": "code",
   "execution_count": 102,
   "metadata": {
    "collapsed": false
   },
   "outputs": [
    {
     "data": {
      "text/plain": [
       "EVTYPE\n",
       "TORNADO                  88304\n",
       "THUNDERSTORM WIND         9077\n",
       "EXCESSIVE HEAT            6662\n",
       "LIGHTNING                 5218\n",
       "HEAT                      1556\n",
       "                         ...  \n",
       "SLEET                        0\n",
       "SEICHE                       0\n",
       "LAKE-EFFECT SNOW             0\n",
       "LAKESHORE FLOOD              0\n",
       "ASTRONOMICAL LOW TIDE        0\n",
       "Name: Injuries, dtype: float64"
      ]
     },
     "execution_count": 102,
     "metadata": {},
     "output_type": "execute_result"
    }
   ],
   "source": [
    "injuries_df = sum_df.Injuries.sort_values(ascending=False)\n",
    "injuries_df"
   ]
  },
  {
   "cell_type": "code",
   "execution_count": 109,
   "metadata": {
    "collapsed": false
   },
   "outputs": [
    {
     "data": {
      "text/plain": [
       "<matplotlib.axes._subplots.AxesSubplot at 0x1189cd7d0>"
      ]
     },
     "execution_count": 109,
     "metadata": {},
     "output_type": "execute_result"
    },
    {
     "data": {
      "image/png": "[encoded data removed]",
      "text/plain": [
       "<matplotlib.figure.Figure at 0x1189cdb50>"
      ]
     },
     "metadata": {},
     "output_type": "display_data"
    }
   ],
   "source": [
    "fig = plt.figure(figsize=(15,5))\n",
    "injuries_df.plot(kind='bar')"
   ]
  },
  {
   "cell_type": "code",
   "execution_count": 103,
   "metadata": {
    "collapsed": false
   },
   "outputs": [
    {
     "data": {
      "text/plain": [
       "EVTYPE\n",
       "TORNADO                5.454690e-08\n",
       "HURRICANE (TYPHOON)    4.821603e-08\n",
       "STORM SURGE/TIDE       4.796159e-08\n",
       "FLOOD                  2.187324e-08\n",
       "FLASH FLOOD            1.421063e-08\n",
       "                           ...     \n",
       "FUNNEL CLOUD           1.746000e-13\n",
       "DENSE SMOKE            1.000000e-13\n",
       "MARINE HAIL            4.000000e-15\n",
       "RIP CURRENT            1.000000e-15\n",
       "SLEET                           NaN\n",
       "Name: PropertyDamage, dtype: float64"
      ]
     },
     "execution_count": 103,
     "metadata": {},
     "output_type": "execute_result"
    }
   ],
   "source": [
    "propertydamage_df = sum_df.PropertyDamage.sort_values(ascending=False)\n",
    "propertydamage_df"
   ]
  },
  {
   "cell_type": "code",
   "execution_count": 110,
   "metadata": {
    "collapsed": false
   },
   "outputs": [
    {
     "data": {
      "text/plain": [
       "<matplotlib.axes._subplots.AxesSubplot at 0x1164ac9d0>"
      ]
     },
     "execution_count": 110,
     "metadata": {},
     "output_type": "execute_result"
    },
    {
     "data": {
      "image/png": "[encoded data removed]",
      "text/plain": [
       "<matplotlib.figure.Figure at 0x1164b6710>"
      ]
     },
     "metadata": {},
     "output_type": "display_data"
    }
   ],
   "source": [
    "fig = plt.figure(figsize=(15,5))\n",
    "propertydamage_df.plot(kind='bar')"
   ]
  },
  {
   "cell_type": "code",
   "execution_count": 105,
   "metadata": {
    "collapsed": false
   },
   "outputs": [
    {
     "data": {
      "text/plain": [
       "EVTYPE\n",
       "WINTER WEATHER              0\n",
       "EXTREME COLD/WIND CHILL     0\n",
       "HEAVY SNOW                  0\n",
       "HEAVY RAIN                  0\n",
       "HEAT                        0\n",
       "                           ..\n",
       "LAKESHORE FLOOD             0\n",
       "LAKE-EFFECT SNOW            0\n",
       "ASTRONOMICAL LOW TIDE       0\n",
       "SLEET                     NaN\n",
       "VOLCANIC ASH              NaN\n",
       "Name: CropDamage, dtype: float64"
      ]
     },
     "execution_count": 105,
     "metadata": {},
     "output_type": "execute_result"
    }
   ],
   "source": [
    "cropdamage_df = sum_df.CropDamage.sort_values(ascending=False)\n",
    "cropdamage_df"
   ]
  },
  {
   "cell_type": "code",
   "execution_count": 111,
   "metadata": {
    "collapsed": false
   },
   "outputs": [
    {
     "data": {
      "text/plain": [
       "<matplotlib.axes._subplots.AxesSubplot at 0x11898fed0>"
      ]
     },
     "execution_count": 111,
     "metadata": {},
     "output_type": "execute_result"
    },
    {
     "data": {
      "image/png": "[encoded data removed]",
      "text/plain": [
       "<matplotlib.figure.Figure at 0x118a444d0>"
      ]
     },
     "metadata": {},
     "output_type": "display_data"
    }
   ],
   "source": [
    "fig = plt.figure(figsize=(15,5))\n",
    "cropdamage_df.plot(kind='bar')"
   ]
  }
 ],
 "metadata": {
  "kernelspec": {
   "display_name": "Python 2",
   "language": "python",
   "name": "python2"
  },
  "language_info": {
   "codemirror_mode": {
    "name": "ipython",
    "version": 2
   },
   "file_extension": ".py",
   "mimetype": "text/x-python",
   "name": "python",
   "nbconvert_exporter": "python",
   "pygments_lexer": "ipython2",
   "version": "2.7.11"
  }
 },
 "nbformat": 4,
 "nbformat_minor": 0
}
